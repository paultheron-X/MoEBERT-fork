{
 "cells": [
  {
   "cell_type": "code",
   "execution_count": 16,
   "id": "82e77686",
   "metadata": {},
   "outputs": [],
   "source": [
    "import numpy as np\n",
    "import pandas as pd\n",
    "import os\n",
    "import shutil\n",
    "from subprocess import Popen, PIPE\n",
    "from IPython.display import clear_output\n",
    "import time"
   ]
  },
  {
   "cell_type": "code",
   "execution_count": 17,
   "id": "eb64a571",
   "metadata": {},
   "outputs": [],
   "source": [
    "output_dir = \"/home/gridsan/shibal/MoEBERT-results\"\n",
    "dataset = 'mnli'\n",
    "batch_sizes = [16,32]\n",
    "weight_decays = [0.0,0.01]\n",
    "learning_rates = [1e-5,2e-5]\n",
    "version = 1"
   ]
  },
  {
   "cell_type": "code",
   "execution_count": 18,
   "id": "1bf1d9e1",
   "metadata": {},
   "outputs": [],
   "source": [
    "def make_bash_file(version, batch_size, weight_decay, learning_rate, experiment):\n",
    "    bash_folder_path = f\"{output_dir}/bashes/MoEBERT/{dataset}/experiment_{experiment}/\"\n",
    "    bash_file_path = os.path.join(bash_folder_path, f\"batch_size_{batch_size}_weight_decay_{weight_decay}_lr_{learning_rate}.sh\")\n",
    "    log_path = f\"{output_dir}/logs/MoEBERT/{dataset}/experiment_{experiment}/batch_size_{batch_size}_weight_decay_{weight_decay}_lr_{learning_rate}/v{version}\"\n",
    "    os.makedirs(bash_folder_path,exist_ok=True)\n",
    "    os.makedirs(log_path,exist_ok=True)\n",
    "    saving_dir = f\"{output_dir}/{dataset}/batch_size_{batch_size}_weight_decay_{weight_decay}_lr_{learning_rate}\"\n",
    "    os.makedirs(saving_dir,exist_ok=True)\n",
    "    with open(bash_file_path,\"w\") as f:\n",
    "        f.write(\"#!/bin/bash\\n\")\n",
    "        f.write(\"#SBATCH --gres=gpu:volta:1\\n\")\n",
    "        f.write(\"#SBATCH --cpus-per-task=20\\n\")\n",
    "        f.write(\"#SBATCH --mem=180G\\n\")\n",
    "        f.write(\"#SBATCH --time=4-00:00\\n\")\n",
    "        f.write(\"#SBATCH --mail-type=FAIL\\n\")\n",
    "        f.write(\"#SBATCH --mail-user=shibal@mit.edu\\n\")\n",
    "        f.write(f\"#SBATCH -o {log_path}/%j.out\\n\")\n",
    "        f.write(f\"#SBATCH -e {log_path}/%j.err\\n\\n\")\n",
    "        \n",
    "        f.write(f\"source activate moebert\\n\\n\")\n",
    "        f.write(f\"export num_gpus=1\\n\")\n",
    "        f.write(f\"export CUBLAS_WORKSPACE_CONFIG=':16:8'\\n\") # https://docs.nvidia.com/cuda/cublas/index.html#cublasApi_reproducibility\n",
    "        f.write(f\"export PYTHONHASHSEED=0\\n\") \n",
    "        \n",
    "        f.write(\"HF_USER_DIR='/home/gridsan/shibal/.cache/huggingface'\\n\")\n",
    "        f.write(\"HF_LOCAL_DIR='/state/partition1/user/shibal/cache/huggingface'\\n\")\n",
    "        f.write(\"mkdir -p $HF_LOCAL_DIR\\n\")\n",
    "        f.write(\"rsync -a --ignore-existing $HF_USER_DIR/ ${HF_LOCAL_DIR}\\n\")\n",
    "        f.write(\"export HF_HOME=${HF_LOCAL_DIR}\\n\")\n",
    "        f.write(\"export TRANSFORMERS_OFFLINE=1\\n\")\n",
    "        f.write(\"export HF_DATASETS_OFFLINE=1\\n\")\n",
    "        f.write(\"export WANDB_DISABLED='true'\\n\")\n",
    "\n",
    "        f.write(\"export BACKEND='pytorch'\\n\\n\")\n",
    "\n",
    "        f.write(\"export HDF5_USE_FILE_LOCKING=FALSE\\n\\n\")\n",
    "\n",
    "        f.write(\"cd /home/gridsan/shibal/projects/MoEBERT-fork\\n\\n\")\n",
    "        \n",
    "        f.write(f\"python examples/text-classification/run_glue.py --model_name_or_path bert-base-uncased --task_name {dataset} --per_device_train_batch_size {batch_size} --weight_decay {weight_decay} --learning_rate {learning_rate} --do_train --do_eval --do_predict --max_seq_length 128 --num_train_epochs 10 --output_dir {saving_dir}/model --logging_steps 20 --logging_dir {saving_dir}/log --report_to tensorboard --evaluation_strategy steps --eval_steps 1000 --save_strategy epoch --load_best_model_at_end True --warmup_ratio 0.0 --seed 0 --weight_decay 0.0 --fp16 \\n\\n\") \n",
    "        \n",
    "    return bash_file_path\n"
   ]
  },
  {
   "cell_type": "code",
   "execution_count": 19,
   "id": "9c934283",
   "metadata": {},
   "outputs": [],
   "source": [
    "# bash_files = []\n",
    "# bash_files.append(make_bash_file(version))\n",
    "\n",
    "# torun = [0]\n",
    "# torun = range(1,6)\n"
   ]
  },
  {
   "cell_type": "code",
   "execution_count": 20,
   "id": "ae171143",
   "metadata": {},
   "outputs": [
    {
     "name": "stdout",
     "output_type": "stream",
     "text": [
      "1\n",
      "2023-09-06 10:30:34 b'Submitted batch job 23773655\\n' None\n",
      "/home/gridsan/shibal/MoEBERT-results/bashes/MoEBERT/mnli/experiment_1/batch_size_16_weight_decay_0.0_lr_1e-05.sh submitted!\n",
      "job id: 23773655\n",
      "2\n",
      "2023-09-06 10:30:34 b'Submitted batch job 23773656\\n' None\n",
      "/home/gridsan/shibal/MoEBERT-results/bashes/MoEBERT/mnli/experiment_2/batch_size_16_weight_decay_0.0_lr_2e-05.sh submitted!\n",
      "job id: 23773656\n",
      "3\n",
      "2023-09-06 10:30:34 b'Submitted batch job 23773657\\n' None\n",
      "/home/gridsan/shibal/MoEBERT-results/bashes/MoEBERT/mnli/experiment_3/batch_size_16_weight_decay_0.01_lr_1e-05.sh submitted!\n",
      "job id: 23773657\n",
      "4\n",
      "2023-09-06 10:30:34 b'Submitted batch job 23773658\\n' None\n",
      "/home/gridsan/shibal/MoEBERT-results/bashes/MoEBERT/mnli/experiment_4/batch_size_16_weight_decay_0.01_lr_2e-05.sh submitted!\n",
      "job id: 23773658\n",
      "5\n",
      "2023-09-06 10:30:34 b'Submitted batch job 23773659\\n' None\n",
      "/home/gridsan/shibal/MoEBERT-results/bashes/MoEBERT/mnli/experiment_5/batch_size_32_weight_decay_0.0_lr_1e-05.sh submitted!\n",
      "job id: 23773659\n",
      "6\n",
      "2023-09-06 10:30:34 b'Submitted batch job 23773660\\n' None\n",
      "/home/gridsan/shibal/MoEBERT-results/bashes/MoEBERT/mnli/experiment_6/batch_size_32_weight_decay_0.0_lr_2e-05.sh submitted!\n",
      "job id: 23773660\n",
      "7\n",
      "2023-09-06 10:30:34 b'Submitted batch job 23773661\\n' None\n",
      "/home/gridsan/shibal/MoEBERT-results/bashes/MoEBERT/mnli/experiment_7/batch_size_32_weight_decay_0.01_lr_1e-05.sh submitted!\n",
      "job id: 23773661\n",
      "8\n",
      "2023-09-06 10:30:34 b'Submitted batch job 23773662\\n' None\n",
      "/home/gridsan/shibal/MoEBERT-results/bashes/MoEBERT/mnli/experiment_8/batch_size_32_weight_decay_0.01_lr_2e-05.sh submitted!\n",
      "job id: 23773662\n"
     ]
    }
   ],
   "source": [
    "submitted = []\n",
    "# print(len(torun))\n",
    "\n",
    "exit_code = 1\n",
    "i = 0\n",
    "for batch_size in batch_sizes:\n",
    "    for weight_decay in weight_decays:\n",
    "        for learning_rate in learning_rates:\n",
    "            i+=1\n",
    "            if i % 100 == 0:\n",
    "                clear_output(wait=True)\n",
    "            print(i)\n",
    "            sh = make_bash_file(version, batch_size, weight_decay, learning_rate, i)\n",
    "            while True:\n",
    "                process = Popen([\"sbatch\",sh], stdout=PIPE)\n",
    "                (output, err) = process.communicate()\n",
    "                exit_code = process.wait()\n",
    "                print(time.strftime('%Y-%m-%d %H:%M:%S', time.localtime(time.time())),output,err)\n",
    "                if exit_code == 0:\n",
    "                    print(sh,\"submitted!\")\n",
    "                    tmp_id = str(output)[-11:-3]\n",
    "                    print(\"job id:\", tmp_id)\n",
    "                    submitted.append(tmp_id)\n",
    "                    break\n",
    "                time.sleep(10000)"
   ]
  },
  {
   "cell_type": "code",
   "execution_count": null,
   "id": "437749cb",
   "metadata": {},
   "outputs": [],
   "source": []
  },
  {
   "cell_type": "code",
   "execution_count": null,
   "id": "cd969aaf",
   "metadata": {},
   "outputs": [],
   "source": []
  }
 ],
 "metadata": {
  "kernelspec": {
   "display_name": "Python 3 (ipykernel)",
   "language": "python",
   "name": "python3"
  },
  "language_info": {
   "codemirror_mode": {
    "name": "ipython",
    "version": 3
   },
   "file_extension": ".py",
   "mimetype": "text/x-python",
   "name": "python",
   "nbconvert_exporter": "python",
   "pygments_lexer": "ipython3",
   "version": "3.8.15"
  },
  "toc": {
   "base_numbering": 1,
   "nav_menu": {},
   "number_sections": true,
   "sideBar": true,
   "skip_h1_title": false,
   "title_cell": "Table of Contents",
   "title_sidebar": "Contents",
   "toc_cell": false,
   "toc_position": {},
   "toc_section_display": true,
   "toc_window_display": false
  }
 },
 "nbformat": 4,
 "nbformat_minor": 5
}
