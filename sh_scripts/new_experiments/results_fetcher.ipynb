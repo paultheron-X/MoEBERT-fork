{
 "cells": [
  {
   "cell_type": "code",
   "execution_count": 1,
   "metadata": {},
   "outputs": [],
   "source": [
    "import os\n",
    "import sys\n",
    "import json\n",
    "import pandas as pd\n",
    "\n",
    "from collections import defaultdict"
   ]
  },
  {
   "cell_type": "code",
   "execution_count": 2,
   "metadata": {},
   "outputs": [],
   "source": [
    "glue = [\"cola\", \"mnli\", \"mrpc\", \"qnli\", \"qqp\", \"rte\", \"sst2\"]\n",
    "\n",
    "dirs_per_task = defaultdict(list)\n",
    "\n",
    "for task in glue:\n",
    "    for dirs in os.listdir(f\"../../results/{task}\"):\n",
    "        if dirs.startswith(\"new_moebert_k2_experiment\"):\n",
    "            # add the full path to the list\n",
    "            dirs_per_task[task].append(f\"../../results/{task}/{dirs}\")    "
   ]
  },
  {
   "cell_type": "code",
   "execution_count": 3,
   "metadata": {},
   "outputs": [],
   "source": [
    "def get_best_metric(list, metric_name):\n",
    "    best_metric = 0\n",
    "    best_epoch = 0\n",
    "    for item_dict in list:\n",
    "        if f'eval_{metric_name}' in item_dict:\n",
    "            if item_dict[f'eval_{metric_name}'] > best_metric:\n",
    "                best_metric = item_dict[f'eval_{metric_name}']\n",
    "                best_epoch = item_dict['epoch']\n",
    "    return best_metric, best_epoch"
   ]
  },
  {
   "cell_type": "code",
   "execution_count": 4,
   "metadata": {},
   "outputs": [],
   "source": [
    "# create a dataframe with task, dis, wdec given the path\n",
    "# for each of them, get the best metric, given the model in the path\n",
    "\n",
    "metric_for_task = {\n",
    "    \"cola\": \"matthews_correlation\",\n",
    "    \"mnli\": \"accuracy\",\n",
    "    \"mrpc\": \"accuracy\",\n",
    "    \"qnli\": \"accuracy\",\n",
    "    \"qqp\": \"f1\",\n",
    "    \"rte\": \"accuracy\",\n",
    "    \"sst2\": \"accuracy\",\n",
    "}\n",
    "\n",
    "df_results = pd.DataFrame(columns=[\"task\", \"dis\", \"wdec\", \"value\", \"epoch\", \"seed\"])\n",
    "\n",
    "for task in glue:\n",
    "    for path in dirs_per_task[task]:\n",
    "        try:\n",
    "            with open(f\"{path}/model/trainer_state.json\", \"r\") as f:\n",
    "                results = json.load(f)\n",
    "            best_result, best_epoch = get_best_metric(results['log_history'], metric_for_task[task])\n",
    "        except FileNotFoundError:\n",
    "            best_result = 0\n",
    "            best_epoch = 0\n",
    "        dis = path.split(\"/\")[-1].split(\"_\")[5]\n",
    "        wdec = path.split(\"/\")[-1].split(\"_\")[7]\n",
    "        try:\n",
    "            seed = path.split(\"/\")[-1].split(\"_\")[9]\n",
    "        except:\n",
    "            seed = \"0\"\n",
    "        df_results = df_results.append({\"task\": task, \"dis\": dis, \"wdec\": wdec, \"value\": best_result, \"epoch\": best_epoch, \"seed\": seed}, ignore_index=True)\n"
   ]
  },
  {
   "cell_type": "code",
   "execution_count": 5,
   "metadata": {},
   "outputs": [
    {
     "name": "stdout",
     "output_type": "stream",
     "text": [
      "task\n",
      "cola    30\n",
      "mnli    28\n",
      "mrpc    28\n",
      "qnli    30\n",
      "qqp     28\n",
      "rte     27\n",
      "sst2    28\n",
      "Name: value, dtype: int64\n"
     ]
    }
   ],
   "source": [
    "# number of experiments per task\n",
    "print(df_results.groupby(\"task\").count()['value'])"
   ]
  },
  {
   "cell_type": "code",
   "execution_count": 6,
   "metadata": {},
   "outputs": [],
   "source": [
    "# get the best value for each task, and the corresponding dis and wdec and epoch\n",
    "best_results = pd.DataFrame(columns=[\"task\", \"dis\", \"wdec\", \"value\", \"epoch\", \"seed\"])\n",
    "for task in glue:\n",
    "    best_results = best_results.append(df_results[df_results[\"task\"] == task].sort_values(by=\"value\", ascending=False).iloc[0])"
   ]
  },
  {
   "cell_type": "code",
   "execution_count": 7,
   "metadata": {},
   "outputs": [
    {
     "data": {
      "text/html": [
       "<div>\n",
       "<style scoped>\n",
       "    .dataframe tbody tr th:only-of-type {\n",
       "        vertical-align: middle;\n",
       "    }\n",
       "\n",
       "    .dataframe tbody tr th {\n",
       "        vertical-align: top;\n",
       "    }\n",
       "\n",
       "    .dataframe thead th {\n",
       "        text-align: right;\n",
       "    }\n",
       "</style>\n",
       "<table border=\"1\" class=\"dataframe\">\n",
       "  <thead>\n",
       "    <tr style=\"text-align: right;\">\n",
       "      <th></th>\n",
       "      <th>task</th>\n",
       "      <th>dis</th>\n",
       "      <th>wdec</th>\n",
       "      <th>value</th>\n",
       "      <th>epoch</th>\n",
       "      <th>seed</th>\n",
       "    </tr>\n",
       "  </thead>\n",
       "  <tbody>\n",
       "    <tr>\n",
       "      <th>28</th>\n",
       "      <td>cola</td>\n",
       "      <td>4</td>\n",
       "      <td>0</td>\n",
       "      <td>0.578642</td>\n",
       "      <td>7.67</td>\n",
       "      <td>1</td>\n",
       "    </tr>\n",
       "    <tr>\n",
       "      <th>37</th>\n",
       "      <td>mnli</td>\n",
       "      <td>1</td>\n",
       "      <td>0</td>\n",
       "      <td>0.147681</td>\n",
       "      <td>4.24</td>\n",
       "      <td>1</td>\n",
       "    </tr>\n",
       "    <tr>\n",
       "      <th>78</th>\n",
       "      <td>mrpc</td>\n",
       "      <td>1</td>\n",
       "      <td>0.01</td>\n",
       "      <td>0.867647</td>\n",
       "      <td>8.71</td>\n",
       "      <td>1</td>\n",
       "    </tr>\n",
       "    <tr>\n",
       "      <th>104</th>\n",
       "      <td>qnli</td>\n",
       "      <td>2</td>\n",
       "      <td>0</td>\n",
       "      <td>0.916346</td>\n",
       "      <td>3.05</td>\n",
       "      <td>1</td>\n",
       "    </tr>\n",
       "    <tr>\n",
       "      <th>132</th>\n",
       "      <td>qqp</td>\n",
       "      <td>2</td>\n",
       "      <td>0</td>\n",
       "      <td>0.881005</td>\n",
       "      <td>4.22</td>\n",
       "      <td>1</td>\n",
       "    </tr>\n",
       "    <tr>\n",
       "      <th>164</th>\n",
       "      <td>rte</td>\n",
       "      <td>5</td>\n",
       "      <td>0</td>\n",
       "      <td>0.689531</td>\n",
       "      <td>5.77</td>\n",
       "      <td>0</td>\n",
       "    </tr>\n",
       "    <tr>\n",
       "      <th>181</th>\n",
       "      <td>sst2</td>\n",
       "      <td>5</td>\n",
       "      <td>0.1</td>\n",
       "      <td>0.927752</td>\n",
       "      <td>3.33</td>\n",
       "      <td>0</td>\n",
       "    </tr>\n",
       "  </tbody>\n",
       "</table>\n",
       "</div>"
      ],
      "text/plain": [
       "     task dis  wdec     value  epoch seed\n",
       "28   cola   4     0  0.578642   7.67    1\n",
       "37   mnli   1     0  0.147681   4.24    1\n",
       "78   mrpc   1  0.01  0.867647   8.71    1\n",
       "104  qnli   2     0  0.916346   3.05    1\n",
       "132   qqp   2     0  0.881005   4.22    1\n",
       "164   rte   5     0  0.689531   5.77    0\n",
       "181  sst2   5   0.1  0.927752   3.33    0"
      ]
     },
     "execution_count": 7,
     "metadata": {},
     "output_type": "execute_result"
    }
   ],
   "source": [
    "best_results"
   ]
  }
 ],
 "metadata": {
  "kernelspec": {
   "display_name": "MoEBERT",
   "language": "python",
   "name": "python3"
  },
  "language_info": {
   "codemirror_mode": {
    "name": "ipython",
    "version": 3
   },
   "file_extension": ".py",
   "mimetype": "text/x-python",
   "name": "python",
   "nbconvert_exporter": "python",
   "pygments_lexer": "ipython3",
   "version": "3.8.11"
  },
  "orig_nbformat": 4
 },
 "nbformat": 4,
 "nbformat_minor": 2
}
