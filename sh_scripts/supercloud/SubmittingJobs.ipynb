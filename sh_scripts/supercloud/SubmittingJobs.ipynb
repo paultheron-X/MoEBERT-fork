{
 "cells": [
  {
   "cell_type": "code",
   "execution_count": 5,
   "metadata": {},
   "outputs": [],
   "source": [
    "import numpy as np\n",
    "import pandas as pd\n",
    "import os"
   ]
  },
  {
   "cell_type": "code",
   "execution_count": 6,
   "metadata": {},
   "outputs": [],
   "source": [
    "import shutil"
   ]
  },
  {
   "cell_type": "code",
   "execution_count": 7,
   "metadata": {},
   "outputs": [],
   "source": [
    "from subprocess import Popen, PIPE\n",
    "import time\n",
    "from IPython.display import clear_output"
   ]
  },
  {
   "cell_type": "code",
   "execution_count": 82,
   "metadata": {},
   "outputs": [],
   "source": [
    "PATH = \"/home/gridsan/shibal\"\n",
    "PYPATH = \"/home/gridsan/shibal/.conda/envs/TF29/bin/python\"\n",
    "LOG_PATH = f\"{PATH}/logs\"\n",
    "CONFIG_PATH = f\"{PATH}/ConditionalComputing/config\"\n",
    "RUN = 2"
   ]
  },
  {
   "cell_type": "code",
   "execution_count": 83,
   "metadata": {},
   "outputs": [
    {
     "data": {
      "text/plain": [
       "'/home/gridsan/shibal/logs'"
      ]
     },
     "execution_count": 83,
     "metadata": {},
     "output_type": "execute_result"
    }
   ],
   "source": [
    "LOG_PATH"
   ]
  },
  {
   "cell_type": "code",
   "execution_count": 88,
   "metadata": {},
   "outputs": [],
   "source": [
    "def make_bash_file(all_id):\n",
    "    seed, gate, use_gpu, ntrials = all_list[all_id-1]\n",
    "    gt = gate.split('-')[0]\n",
    "    model_config =  f'{model_config_prefix}/{model_config_prefix}_{gt}.json'\n",
    "    os.makedirs(f\"../{dataset}_bashes/v{RUN}/\",exist_ok=True)\n",
    "    with open(f\"../{dataset}_bashes/v{RUN}/{gate}_seed{seed}.sh\",\"w\") as f:\n",
    "        f.write(\"#!/bin/bash\\n\")\n",
    "        if use_gpu:\n",
    "            f.write(\"#SBATCH --cpus-per-task=2\\n\")\n",
    "            f.write(\"#SBATCH --gres=gpu:volta:1\\n\")\n",
    "            f.write(\"#SBATCH --time=10-00:00\\n\")\n",
    "        else:\n",
    "            f.write(\"#SBATCH --cpus-per-task=2\\n\")\n",
    "            f.write(\"#SBATCH --time=21-00:00\\n\")\n",
    "        f.write(\"#SBATCH --mem=16G\\n\")\n",
    "        f.write(\"#SBATCH --mail-type=FAIL\\n\")\n",
    "        f.write(\"#SBATCH --mail-user=shibal@mit.edu\\n\")\n",
    "        os.makedirs(f\"{LOG_PATH}/{dataset}_v{RUN}/{gate}/\",exist_ok=True)\n",
    "        f.write(f\"#SBATCH -o {LOG_PATH}/{dataset}_v{RUN}/{gate}/{dataset}_{gate}_seed{seed}_%j.out\\n\")\n",
    "        f.write(f\"#SBATCH -e {LOG_PATH}/{dataset}_v{RUN}/{gate}/{dataset}_{gate}_seed{seed}_%j.err\\n\\n\")\n",
    "#         f.write(\"#SBATCH --exclusive\\n\")\n",
    "       \n",
    "        f.write(\"source /etc/profile\\n\\n\")\n",
    "        f.write(\"module load anaconda/2020a\\n\\n\")\n",
    "        f.write(\"source /state/partition1/llgrid/pkg/anaconda/anaconda3-2020a/bin/activate TF29\\n\\n\")\n",
    "#         f.write(\"source /state/partition1/llgrid/pkg/anaconda/anaconda3-2021a/bin/activate tf-gpu\\n\\n\")\n",
    "        f.write(\"export HDF5_USE_FILE_LOCKING=FALSE\\n\\n\")\n",
    "        \n",
    "        f.write(f\"{PYPATH} {PATH}/ConditionalComputing/main.py \\\\\\n\")\n",
    "        f.write(f\"--model_config {CONFIG_PATH}/model_config/{model_config}  \\\\\\n\")\n",
    "        f.write(f\"--task_config {CONFIG_PATH}/task_config/task_configs.yml  \\\\\\n\")\n",
    "        f.write(f\"--train_config {CONFIG_PATH}/train_config/{train_config}  \\\\\\n\")\n",
    "        shutil.rmtree(f\"{PATH}/results/{dataset}_v{RUN}/{dataset}_{gate}_v{RUN}_seed{seed}/\", ignore_errors=True)\n",
    "        os.makedirs(f\"{PATH}/results/{dataset}_v{RUN}/{dataset}_{gate}_v{RUN}_seed{seed}/\",exist_ok=True)\n",
    "        f.write(f\"--results_location {PATH}/results/{dataset}_v{RUN}/  \\\\\\n\")\n",
    "        f.write(f\"--experiment_name {dataset}_{gate}_v{RUN}_seed{seed}  \\\\\\n\")\n",
    "        f.write(f\"--seed {seed}   \\\\\\n\")\n",
    "        f.write(f\"--max_hyperparameter_evals {ntrials} \\\\\\n\")\n",
    "#         f.write(f\"--no_weight_saving \\\\\\n\")\n",
    "#         f.write(f\"--use_MoE_stacked \\\\\\n\")\n",
    "        # if \"dselect_k\" not in gate:\n",
    "        #     f.write(f\"--use_MoE_stacked \\\\\\n\")\n",
    "        # else:\n",
    "        #     f.write(f\"\\n\")\n",
    "    return f\"../{dataset}_bashes/v{RUN}/{gate}_seed{seed}.sh\""
   ]
  },
  {
   "cell_type": "code",
   "execution_count": 89,
   "metadata": {},
   "outputs": [],
   "source": [
    "bash_files = []\n",
    "for all_id in range(1,len(all_list)+1):\n",
    "    bash_files.append(make_bash_file(all_id))"
   ]
  },
  {
   "cell_type": "code",
   "execution_count": 90,
   "metadata": {},
   "outputs": [
    {
     "data": {
      "text/plain": [
       "['../mixture-of-digits_bashes/v2/instance_specific_soft_k_trees_ensemble_learn_permuted_gate_seed61.sh',\n",
       " '../mixture-of-digits_bashes/v2/instance_specific_soft_k_trees_ensemble_learn_permuted_gate_seed62.sh',\n",
       " '../mixture-of-digits_bashes/v2/instance_specific_soft_k_trees_ensemble_learn_permuted_gate_seed63.sh',\n",
       " '../mixture-of-digits_bashes/v2/instance_specific_soft_k_trees_ensemble_learn_permuted_gate_seed64.sh',\n",
       " '../mixture-of-digits_bashes/v2/instance_specific_soft_k_trees_ensemble_learn_permuted_gate_seed65.sh',\n",
       " '../mixture-of-digits_bashes/v2/instance_specific_soft_k_trees_ensemble_learn_permuted_gate_seed66.sh',\n",
       " '../mixture-of-digits_bashes/v2/instance_specific_soft_k_trees_ensemble_learn_permuted_gate_seed67.sh',\n",
       " '../mixture-of-digits_bashes/v2/instance_specific_soft_k_trees_ensemble_learn_permuted_gate_seed68.sh',\n",
       " '../mixture-of-digits_bashes/v2/instance_specific_soft_k_trees_ensemble_learn_permuted_gate_seed69.sh',\n",
       " '../mixture-of-digits_bashes/v2/instance_specific_soft_k_trees_ensemble_learn_permuted_gate_seed70.sh',\n",
       " '../mixture-of-digits_bashes/v2/instance_specific_soft_k_trees_ensemble_learn_permuted_gate_seed71.sh',\n",
       " '../mixture-of-digits_bashes/v2/instance_specific_soft_k_trees_ensemble_learn_permuted_gate_seed72.sh',\n",
       " '../mixture-of-digits_bashes/v2/instance_specific_soft_k_trees_ensemble_learn_permuted_gate_seed73.sh',\n",
       " '../mixture-of-digits_bashes/v2/instance_specific_soft_k_trees_ensemble_learn_permuted_gate_seed74.sh',\n",
       " '../mixture-of-digits_bashes/v2/instance_specific_soft_k_trees_ensemble_learn_permuted_gate_seed75.sh',\n",
       " '../mixture-of-digits_bashes/v2/instance_specific_soft_k_trees_ensemble_learn_permuted_gate_seed76.sh',\n",
       " '../mixture-of-digits_bashes/v2/instance_specific_soft_k_trees_ensemble_learn_permuted_gate_seed77.sh',\n",
       " '../mixture-of-digits_bashes/v2/instance_specific_soft_k_trees_ensemble_learn_permuted_gate_seed78.sh',\n",
       " '../mixture-of-digits_bashes/v2/instance_specific_soft_k_trees_ensemble_learn_permuted_gate_seed79.sh',\n",
       " '../mixture-of-digits_bashes/v2/instance_specific_soft_k_trees_ensemble_learn_permuted_gate_seed80.sh',\n",
       " '../mixture-of-digits_bashes/v2/instance_specific_soft_k_trees_ensemble_learn_permuted_gate_seed81.sh',\n",
       " '../mixture-of-digits_bashes/v2/instance_specific_soft_k_trees_ensemble_learn_permuted_gate_seed82.sh',\n",
       " '../mixture-of-digits_bashes/v2/instance_specific_soft_k_trees_ensemble_learn_permuted_gate_seed83.sh',\n",
       " '../mixture-of-digits_bashes/v2/instance_specific_soft_k_trees_ensemble_learn_permuted_gate_seed84.sh',\n",
       " '../mixture-of-digits_bashes/v2/instance_specific_soft_k_trees_ensemble_learn_permuted_gate_seed85.sh',\n",
       " '../mixture-of-digits_bashes/v2/instance_specific_soft_k_trees_ensemble_learn_permuted_gate_seed86.sh',\n",
       " '../mixture-of-digits_bashes/v2/instance_specific_soft_k_trees_ensemble_learn_permuted_gate_seed87.sh',\n",
       " '../mixture-of-digits_bashes/v2/instance_specific_soft_k_trees_ensemble_learn_permuted_gate_seed88.sh',\n",
       " '../mixture-of-digits_bashes/v2/instance_specific_soft_k_trees_ensemble_learn_permuted_gate_seed89.sh',\n",
       " '../mixture-of-digits_bashes/v2/instance_specific_soft_k_trees_ensemble_learn_permuted_gate_seed90.sh']"
      ]
     },
     "execution_count": 90,
     "metadata": {},
     "output_type": "execute_result"
    }
   ],
   "source": [
    "bash_files"
   ]
  },
  {
   "cell_type": "code",
   "execution_count": 91,
   "metadata": {},
   "outputs": [],
   "source": [
    "# command = \"\"\"/home/gridsan/shibal/.conda/envs/TF29/bin/python /home/gridsan/shibal/ConditionalComputing/main.py \\\n",
    "# --model_config /home/gridsan/shibal/ConditionalComputing/config/model_config/mixture-of-digits/mixture-of-digits_instance_specific_topk_softmax.json  \\\n",
    "# --task_config /home/gridsan/shibal/ConditionalComputing/config/task_config/task_configs.yml  \\\n",
    "# --train_config /home/gridsan/shibal/ConditionalComputing/config/train_config/mixture-of-digits_trainV1-Adam.json  \\\n",
    "# --results_location /home/gridsan/shibal/results/mixture-of-digits_v1/  \\\n",
    "# --experiment_name mixture-of-digits_instance_specific_topk_softmax_v1_seed1  \\\n",
    "# --seed 1   \\\n",
    "# --max_hyperparameter_evals 1  \n",
    "# \"\"\""
   ]
  },
  {
   "cell_type": "code",
   "execution_count": 92,
   "metadata": {},
   "outputs": [],
   "source": [
    "# !{command}"
   ]
  },
  {
   "cell_type": "markdown",
   "metadata": {
    "tags": []
   },
   "source": [
    "# Submit Jobs"
   ]
  },
  {
   "cell_type": "code",
   "execution_count": 93,
   "metadata": {},
   "outputs": [
    {
     "data": {
      "text/plain": [
       "30"
      ]
     },
     "execution_count": 93,
     "metadata": {},
     "output_type": "execute_result"
    }
   ],
   "source": [
    "len(all_list)"
   ]
  },
  {
   "cell_type": "code",
   "execution_count": 94,
   "metadata": {},
   "outputs": [
    {
     "name": "stdout",
     "output_type": "stream",
     "text": [
      "30\n"
     ]
    }
   ],
   "source": [
    "# torun = df_all[df_all['data_seed']==1].index.tolist()\n",
    "# torun = df_all[(df_all['data_seed']==1)&(df_all['n']==10000)].index.tolist()\n",
    "# torun = df_all[~df_all['problem_id'].isin([2,6,10,14])].index.tolist()\n",
    "torun = range(1,len(all_list)+1)\n",
    "# torun = range(1,6)\n",
    "submitted = []\n",
    "print(len(torun))"
   ]
  },
  {
   "cell_type": "code",
   "execution_count": 95,
   "metadata": {
    "scrolled": true
   },
   "outputs": [
    {
     "name": "stdout",
     "output_type": "stream",
     "text": [
      "0\n",
      "2023-01-06 11:27:09 b'Submitted batch job 21011683\\n' None\n",
      "../mixture-of-digits_bashes/v2/instance_specific_soft_k_trees_ensemble_learn_permuted_gate_seed61.sh submitted!\n",
      "job id: 21011683\n",
      "1\n",
      "2023-01-06 11:27:09 b'Submitted batch job 21011684\\n' None\n",
      "../mixture-of-digits_bashes/v2/instance_specific_soft_k_trees_ensemble_learn_permuted_gate_seed62.sh submitted!\n",
      "job id: 21011684\n",
      "2\n",
      "2023-01-06 11:27:09 b'Submitted batch job 21011685\\n' None\n",
      "../mixture-of-digits_bashes/v2/instance_specific_soft_k_trees_ensemble_learn_permuted_gate_seed63.sh submitted!\n",
      "job id: 21011685\n",
      "3\n",
      "2023-01-06 11:27:09 b'Submitted batch job 21011686\\n' None\n",
      "../mixture-of-digits_bashes/v2/instance_specific_soft_k_trees_ensemble_learn_permuted_gate_seed64.sh submitted!\n",
      "job id: 21011686\n",
      "4\n",
      "2023-01-06 11:27:09 b'Submitted batch job 21011687\\n' None\n",
      "../mixture-of-digits_bashes/v2/instance_specific_soft_k_trees_ensemble_learn_permuted_gate_seed65.sh submitted!\n",
      "job id: 21011687\n",
      "5\n",
      "2023-01-06 11:27:09 b'Submitted batch job 21011688\\n' None\n",
      "../mixture-of-digits_bashes/v2/instance_specific_soft_k_trees_ensemble_learn_permuted_gate_seed66.sh submitted!\n",
      "job id: 21011688\n",
      "6\n",
      "2023-01-06 11:27:09 b'Submitted batch job 21011689\\n' None\n",
      "../mixture-of-digits_bashes/v2/instance_specific_soft_k_trees_ensemble_learn_permuted_gate_seed67.sh submitted!\n",
      "job id: 21011689\n",
      "7\n",
      "2023-01-06 11:27:09 b'Submitted batch job 21011690\\n' None\n",
      "../mixture-of-digits_bashes/v2/instance_specific_soft_k_trees_ensemble_learn_permuted_gate_seed68.sh submitted!\n",
      "job id: 21011690\n",
      "8\n",
      "2023-01-06 11:27:09 b'Submitted batch job 21011691\\n' None\n",
      "../mixture-of-digits_bashes/v2/instance_specific_soft_k_trees_ensemble_learn_permuted_gate_seed69.sh submitted!\n",
      "job id: 21011691\n",
      "9\n",
      "2023-01-06 11:27:09 b'Submitted batch job 21011692\\n' None\n",
      "../mixture-of-digits_bashes/v2/instance_specific_soft_k_trees_ensemble_learn_permuted_gate_seed70.sh submitted!\n",
      "job id: 21011692\n",
      "10\n",
      "2023-01-06 11:27:09 b'Submitted batch job 21011693\\n' None\n",
      "../mixture-of-digits_bashes/v2/instance_specific_soft_k_trees_ensemble_learn_permuted_gate_seed71.sh submitted!\n",
      "job id: 21011693\n",
      "11\n",
      "2023-01-06 11:27:09 b'Submitted batch job 21011694\\n' None\n",
      "../mixture-of-digits_bashes/v2/instance_specific_soft_k_trees_ensemble_learn_permuted_gate_seed72.sh submitted!\n",
      "job id: 21011694\n",
      "12\n",
      "2023-01-06 11:27:09 b'Submitted batch job 21011695\\n' None\n",
      "../mixture-of-digits_bashes/v2/instance_specific_soft_k_trees_ensemble_learn_permuted_gate_seed73.sh submitted!\n",
      "job id: 21011695\n",
      "13\n",
      "2023-01-06 11:27:09 b'Submitted batch job 21011696\\n' None\n",
      "../mixture-of-digits_bashes/v2/instance_specific_soft_k_trees_ensemble_learn_permuted_gate_seed74.sh submitted!\n",
      "job id: 21011696\n",
      "14\n",
      "2023-01-06 11:27:09 b'Submitted batch job 21011697\\n' None\n",
      "../mixture-of-digits_bashes/v2/instance_specific_soft_k_trees_ensemble_learn_permuted_gate_seed75.sh submitted!\n",
      "job id: 21011697\n",
      "15\n",
      "2023-01-06 11:27:09 b'Submitted batch job 21011698\\n' None\n",
      "../mixture-of-digits_bashes/v2/instance_specific_soft_k_trees_ensemble_learn_permuted_gate_seed76.sh submitted!\n",
      "job id: 21011698\n",
      "16\n",
      "2023-01-06 11:27:09 b'Submitted batch job 21011699\\n' None\n",
      "../mixture-of-digits_bashes/v2/instance_specific_soft_k_trees_ensemble_learn_permuted_gate_seed77.sh submitted!\n",
      "job id: 21011699\n",
      "17\n",
      "2023-01-06 11:27:09 b'Submitted batch job 21011700\\n' None\n",
      "../mixture-of-digits_bashes/v2/instance_specific_soft_k_trees_ensemble_learn_permuted_gate_seed78.sh submitted!\n",
      "job id: 21011700\n",
      "18\n",
      "2023-01-06 11:27:09 b'Submitted batch job 21011701\\n' None\n",
      "../mixture-of-digits_bashes/v2/instance_specific_soft_k_trees_ensemble_learn_permuted_gate_seed79.sh submitted!\n",
      "job id: 21011701\n",
      "19\n",
      "2023-01-06 11:27:09 b'Submitted batch job 21011702\\n' None\n",
      "../mixture-of-digits_bashes/v2/instance_specific_soft_k_trees_ensemble_learn_permuted_gate_seed80.sh submitted!\n",
      "job id: 21011702\n",
      "20\n",
      "2023-01-06 11:27:09 b'Submitted batch job 21011703\\n' None\n",
      "../mixture-of-digits_bashes/v2/instance_specific_soft_k_trees_ensemble_learn_permuted_gate_seed81.sh submitted!\n",
      "job id: 21011703\n",
      "21\n",
      "2023-01-06 11:27:09 b'Submitted batch job 21011704\\n' None\n",
      "../mixture-of-digits_bashes/v2/instance_specific_soft_k_trees_ensemble_learn_permuted_gate_seed82.sh submitted!\n",
      "job id: 21011704\n",
      "22\n",
      "2023-01-06 11:27:09 b'Submitted batch job 21011705\\n' None\n",
      "../mixture-of-digits_bashes/v2/instance_specific_soft_k_trees_ensemble_learn_permuted_gate_seed83.sh submitted!\n",
      "job id: 21011705\n",
      "23\n",
      "2023-01-06 11:27:09 b'Submitted batch job 21011706\\n' None\n",
      "../mixture-of-digits_bashes/v2/instance_specific_soft_k_trees_ensemble_learn_permuted_gate_seed84.sh submitted!\n",
      "job id: 21011706\n",
      "24\n",
      "2023-01-06 11:27:09 b'Submitted batch job 21011707\\n' None\n",
      "../mixture-of-digits_bashes/v2/instance_specific_soft_k_trees_ensemble_learn_permuted_gate_seed85.sh submitted!\n",
      "job id: 21011707\n",
      "25\n",
      "2023-01-06 11:27:09 b'Submitted batch job 21011708\\n' None\n",
      "../mixture-of-digits_bashes/v2/instance_specific_soft_k_trees_ensemble_learn_permuted_gate_seed86.sh submitted!\n",
      "job id: 21011708\n",
      "26\n",
      "2023-01-06 11:27:09 b'Submitted batch job 21011709\\n' None\n",
      "../mixture-of-digits_bashes/v2/instance_specific_soft_k_trees_ensemble_learn_permuted_gate_seed87.sh submitted!\n",
      "job id: 21011709\n",
      "27\n",
      "2023-01-06 11:27:09 b'Submitted batch job 21011710\\n' None\n",
      "../mixture-of-digits_bashes/v2/instance_specific_soft_k_trees_ensemble_learn_permuted_gate_seed88.sh submitted!\n",
      "job id: 21011710\n",
      "28\n",
      "2023-01-06 11:27:09 b'Submitted batch job 21011711\\n' None\n",
      "../mixture-of-digits_bashes/v2/instance_specific_soft_k_trees_ensemble_learn_permuted_gate_seed89.sh submitted!\n",
      "job id: 21011711\n",
      "29\n",
      "2023-01-06 11:27:09 b'Submitted batch job 21011712\\n' None\n",
      "../mixture-of-digits_bashes/v2/instance_specific_soft_k_trees_ensemble_learn_permuted_gate_seed90.sh submitted!\n",
      "job id: 21011712\n"
     ]
    }
   ],
   "source": [
    "exit_code = 1\n",
    "for i,all_id in enumerate(torun):\n",
    "    if i % 100 == 0:\n",
    "        clear_output(wait=True)\n",
    "    print(i)\n",
    "    sh = make_bash_file(all_id)\n",
    "    while True:\n",
    "        process = Popen([\"sbatch\",sh], stdout=PIPE)\n",
    "        (output, err) = process.communicate()\n",
    "        exit_code = process.wait()\n",
    "        print(time.strftime('%Y-%m-%d %H:%M:%S', time.localtime(time.time())),output,err)\n",
    "        if exit_code == 0:\n",
    "            print(sh,\"submitted!\")\n",
    "            tmp_id = str(output)[-11:-3]\n",
    "            print(\"job id:\", tmp_id)\n",
    "            submitted.append(tmp_id)\n",
    "            break\n",
    "        time.sleep(50000)\n",
    "        "
   ]
  },
  {
   "cell_type": "code",
   "execution_count": null,
   "metadata": {},
   "outputs": [],
   "source": []
  },
  {
   "cell_type": "code",
   "execution_count": 269,
   "metadata": {},
   "outputs": [
    {
     "name": "stdout",
     "output_type": "stream",
     "text": [
      "0\n"
     ]
    }
   ],
   "source": [
    "# torun = df_all[df_all['data_seed']==1].index.tolist()\n",
    "# torun = df_all[(df_all['data_seed']==1)&(df_all['n']==10000)].index.tolist()\n",
    "# torun = df_all[~df_all['problem_id'].isin([2,6,10,14])].index.tolist()\n",
    "torun2 = df_all[(df_all['gate']=='instance_specific_soft_k_trees_ensemble_gate')&(df_all['seed']==10)].index.tolist()\n",
    "# torun = range(1,6)\n",
    "submitted2 = []\n",
    "print(len(torun2))"
   ]
  },
  {
   "cell_type": "code",
   "execution_count": null,
   "metadata": {},
   "outputs": [],
   "source": []
  },
  {
   "cell_type": "code",
   "execution_count": 270,
   "metadata": {
    "scrolled": true
   },
   "outputs": [],
   "source": [
    "exit_code = 1\n",
    "for i,all_id in enumerate(torun2):\n",
    "    if i % 100 == 0:\n",
    "        clear_output(wait=True)\n",
    "    print(i)\n",
    "    sh = make_bash_file(all_id)\n",
    "    while True:\n",
    "        process = Popen([\"sbatch\",sh], stdout=PIPE)\n",
    "        (output, err) = process.communicate()\n",
    "        exit_code = process.wait()\n",
    "        print(time.strftime('%Y-%m-%d %H:%M:%S', time.localtime(time.time())),output,err)\n",
    "        if exit_code == 0:\n",
    "            print(sh,\"submitted!\")\n",
    "            tmp_id = str(output)[-11:-3]\n",
    "            print(\"job id:\", tmp_id)\n",
    "            submitted2.append(tmp_id)\n",
    "            break\n",
    "        time.sleep(300)\n",
    "        "
   ]
  },
  {
   "cell_type": "code",
   "execution_count": 271,
   "metadata": {},
   "outputs": [
    {
     "data": {
      "text/plain": [
       "[]"
      ]
     },
     "execution_count": 271,
     "metadata": {},
     "output_type": "execute_result"
    }
   ],
   "source": [
    "submitted2"
   ]
  },
  {
   "cell_type": "code",
   "execution_count": 272,
   "metadata": {},
   "outputs": [],
   "source": [
    "for job in submitted2:\n",
    "    process = Popen(['scancel',job], stdout=PIPE)\n",
    "    (output, err) = process.communicate()\n",
    "    exit_code = process.wait()\n",
    "    if exit_code ==0:\n",
    "        print(job, \"deleted!\")"
   ]
  },
  {
   "cell_type": "markdown",
   "metadata": {},
   "source": [
    "# Cancel jobs"
   ]
  },
  {
   "cell_type": "code",
   "execution_count": 623,
   "metadata": {},
   "outputs": [],
   "source": [
    "submitted = np.arange(20989143,20989233).astype(str)"
   ]
  },
  {
   "cell_type": "code",
   "execution_count": 624,
   "metadata": {},
   "outputs": [
    {
     "data": {
      "text/plain": [
       "array(['20989143', '20989144', '20989145', '20989146', '20989147',\n",
       "       '20989148', '20989149', '20989150', '20989151', '20989152',\n",
       "       '20989153', '20989154', '20989155', '20989156', '20989157',\n",
       "       '20989158', '20989159', '20989160', '20989161', '20989162',\n",
       "       '20989163', '20989164', '20989165', '20989166', '20989167',\n",
       "       '20989168', '20989169', '20989170', '20989171', '20989172',\n",
       "       '20989173', '20989174', '20989175', '20989176', '20989177',\n",
       "       '20989178', '20989179', '20989180', '20989181', '20989182',\n",
       "       '20989183', '20989184', '20989185', '20989186', '20989187',\n",
       "       '20989188', '20989189', '20989190', '20989191', '20989192',\n",
       "       '20989193', '20989194', '20989195', '20989196', '20989197',\n",
       "       '20989198', '20989199', '20989200', '20989201', '20989202',\n",
       "       '20989203', '20989204', '20989205', '20989206', '20989207',\n",
       "       '20989208', '20989209', '20989210', '20989211', '20989212',\n",
       "       '20989213', '20989214', '20989215', '20989216', '20989217',\n",
       "       '20989218', '20989219', '20989220', '20989221', '20989222',\n",
       "       '20989223', '20989224', '20989225', '20989226', '20989227',\n",
       "       '20989228', '20989229', '20989230', '20989231', '20989232'],\n",
       "      dtype='<U21')"
      ]
     },
     "execution_count": 624,
     "metadata": {},
     "output_type": "execute_result"
    }
   ],
   "source": [
    "submitted"
   ]
  },
  {
   "cell_type": "code",
   "execution_count": 625,
   "metadata": {
    "scrolled": true
   },
   "outputs": [
    {
     "name": "stdout",
     "output_type": "stream",
     "text": [
      "20989143 deleted!\n",
      "20989144 deleted!\n",
      "20989145 deleted!\n",
      "20989146 deleted!\n",
      "20989147 deleted!\n",
      "20989148 deleted!\n",
      "20989149 deleted!\n",
      "20989150 deleted!\n",
      "20989151 deleted!\n",
      "20989152 deleted!\n",
      "20989153 deleted!\n",
      "20989154 deleted!\n",
      "20989155 deleted!\n",
      "20989156 deleted!\n",
      "20989157 deleted!\n",
      "20989158 deleted!\n",
      "20989159 deleted!\n",
      "20989160 deleted!\n",
      "20989161 deleted!\n",
      "20989162 deleted!\n",
      "20989163 deleted!\n",
      "20989164 deleted!\n",
      "20989165 deleted!\n",
      "20989166 deleted!\n",
      "20989167 deleted!\n",
      "20989168 deleted!\n",
      "20989169 deleted!\n",
      "20989170 deleted!\n",
      "20989171 deleted!\n",
      "20989172 deleted!\n",
      "20989173 deleted!\n",
      "20989174 deleted!\n",
      "20989175 deleted!\n",
      "20989176 deleted!\n",
      "20989177 deleted!\n",
      "20989178 deleted!\n",
      "20989179 deleted!\n",
      "20989180 deleted!\n",
      "20989181 deleted!\n",
      "20989182 deleted!\n",
      "20989183 deleted!\n",
      "20989184 deleted!\n",
      "20989185 deleted!\n",
      "20989186 deleted!\n",
      "20989187 deleted!\n",
      "20989188 deleted!\n",
      "20989189 deleted!\n",
      "20989190 deleted!\n",
      "20989191 deleted!\n",
      "20989192 deleted!\n",
      "20989193 deleted!\n",
      "20989194 deleted!\n",
      "20989195 deleted!\n",
      "20989196 deleted!\n",
      "20989197 deleted!\n",
      "20989198 deleted!\n",
      "20989199 deleted!\n",
      "20989200 deleted!\n",
      "20989201 deleted!\n",
      "20989202 deleted!\n",
      "20989203 deleted!\n",
      "20989204 deleted!\n",
      "20989205 deleted!\n",
      "20989206 deleted!\n",
      "20989207 deleted!\n",
      "20989208 deleted!\n",
      "20989209 deleted!\n",
      "20989210 deleted!\n",
      "20989211 deleted!\n",
      "20989212 deleted!\n",
      "20989213 deleted!\n",
      "20989214 deleted!\n",
      "20989215 deleted!\n",
      "20989216 deleted!\n",
      "20989217 deleted!\n",
      "20989218 deleted!\n",
      "20989219 deleted!\n",
      "20989220 deleted!\n",
      "20989221 deleted!\n",
      "20989222 deleted!\n",
      "20989223 deleted!\n",
      "20989224 deleted!\n",
      "20989225 deleted!\n",
      "20989226 deleted!\n",
      "20989227 deleted!\n",
      "20989228 deleted!\n",
      "20989229 deleted!\n",
      "20989230 deleted!\n",
      "20989231 deleted!\n",
      "20989232 deleted!\n"
     ]
    }
   ],
   "source": [
    "for job in submitted:\n",
    "    process = Popen(['scancel',job], stdout=PIPE)\n",
    "    (output, err) = process.communicate()\n",
    "    exit_code = process.wait()\n",
    "    if exit_code ==0:\n",
    "        print(job, \"deleted!\")"
   ]
  },
  {
   "cell_type": "code",
   "execution_count": null,
   "metadata": {},
   "outputs": [],
   "source": []
  }
 ],
 "metadata": {
  "kernelspec": {
   "display_name": "inf582-nlp",
   "language": "python",
   "name": "python3"
  },
  "language_info": {
   "codemirror_mode": {
    "name": "ipython",
    "version": 3
   },
   "file_extension": ".py",
   "mimetype": "text/x-python",
   "name": "python",
   "nbconvert_exporter": "python",
   "pygments_lexer": "ipython3",
   "version": "3.9.10 | packaged by conda-forge | (main, Feb  1 2022, 21:27:48) \n[Clang 11.1.0 ]"
  },
  "latex_envs": {
   "LaTeX_envs_menu_present": true,
   "autoclose": false,
   "autocomplete": true,
   "bibliofile": "biblio.bib",
   "cite_by": "apalike",
   "current_citInitial": 1,
   "eqLabelWithNumbers": true,
   "eqNumInitial": 1,
   "hotkeys": {
    "equation": "Ctrl-E",
    "itemize": "Ctrl-I"
   },
   "labels_anchors": false,
   "latex_user_defs": false,
   "report_style_numbering": false,
   "user_envs_cfg": false
  },
  "toc": {
   "base_numbering": 1,
   "nav_menu": {},
   "number_sections": true,
   "sideBar": true,
   "skip_h1_title": false,
   "title_cell": "Table of Contents",
   "title_sidebar": "Contents",
   "toc_cell": false,
   "toc_position": {},
   "toc_section_display": true,
   "toc_window_display": false
  },
  "varInspector": {
   "cols": {
    "lenName": 16,
    "lenType": 16,
    "lenVar": 40
   },
   "kernels_config": {
    "python": {
     "delete_cmd_postfix": "",
     "delete_cmd_prefix": "del ",
     "library": "var_list.py",
     "varRefreshCmd": "print(var_dic_list())"
    },
    "r": {
     "delete_cmd_postfix": ") ",
     "delete_cmd_prefix": "rm(",
     "library": "var_list.r",
     "varRefreshCmd": "cat(var_dic_list()) "
    }
   },
   "types_to_exclude": [
    "module",
    "function",
    "builtin_function_or_method",
    "instance",
    "_Feature"
   ],
   "window_display": false
  },
  "vscode": {
   "interpreter": {
    "hash": "fd85ce2495f2e04f810fc7a5622c6f28521595cbf410d2fb49a7c1bb922d034d"
   }
  }
 },
 "nbformat": 4,
 "nbformat_minor": 4
}
