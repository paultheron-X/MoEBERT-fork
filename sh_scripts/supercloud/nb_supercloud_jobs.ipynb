{
 "cells": [
  {
   "cell_type": "code",
   "execution_count": 1,
   "metadata": {},
   "outputs": [],
   "source": [
    "import numpy as np\n",
    "import pandas as pd\n",
    "import os"
   ]
  },
  {
   "cell_type": "code",
   "execution_count": 2,
   "metadata": {},
   "outputs": [],
   "source": [
    "import shutil"
   ]
  },
  {
   "cell_type": "code",
   "execution_count": 3,
   "metadata": {},
   "outputs": [],
   "source": [
    "from subprocess import Popen, PIPE\n",
    "import time\n",
    "from IPython.display import clear_output"
   ]
  },
  {
   "cell_type": "code",
   "execution_count": 4,
   "metadata": {},
   "outputs": [],
   "source": [
    "PATH = \"/home/gridsan/ptheron/MoEBERT-fork\"\n",
    "PYPATH = \"/home/gridsan/ptheron/.conda/envs/MoEBERT/bin/python\"\n",
    "LOG_PATH = f\"{PATH}/logs\""
   ]
  },
  {
   "cell_type": "code",
   "execution_count": 5,
   "metadata": {},
   "outputs": [
    {
     "data": {
      "text/plain": [
       "'/home/gridsan/ptheron/MoEBERT-fork/logs'"
      ]
     },
     "execution_count": 5,
     "metadata": {},
     "output_type": "execute_result"
    }
   ],
   "source": [
    "LOG_PATH"
   ]
  },
  {
   "attachments": {},
   "cell_type": "markdown",
   "metadata": {},
   "source": [
    "# Download glue datasets and necessary module from huggingface"
   ]
  },
  {
   "cell_type": "code",
   "execution_count": null,
   "metadata": {},
   "outputs": [],
   "source": [
    "!bash ../fetching/sh_dl_ds.sh"
   ]
  },
  {
   "cell_type": "markdown",
   "metadata": {
    "tags": []
   },
   "source": [
    "# Submit Jobs"
   ]
  },
  {
   "cell_type": "code",
   "execution_count": null,
   "metadata": {},
   "outputs": [],
   "source": [
    "datasets = ['rte', 'cola','mrpc', 'sst2', 'qqp', 'mnli', 'qnli']\n"
   ]
  },
  {
   "attachments": {},
   "cell_type": "markdown",
   "metadata": {},
   "source": [
    "### BERT Task specific finetuning"
   ]
  },
  {
   "cell_type": "code",
   "execution_count": null,
   "metadata": {},
   "outputs": [],
   "source": [
    "OUTPUT_DIR = \"/home/gridsan/ptheron/MoEBERT-fork/results\"\n",
    "torun = ['rte', 'cola', 'mrpc', 'sst2']\n",
    "submitted = []"
   ]
  },
  {
   "cell_type": "code",
   "execution_count": null,
   "metadata": {},
   "outputs": [],
   "source": [
    "exit_code = 1\n",
    "for i,all_id in enumerate(torun):\n",
    "    if i % 100 == 0:\n",
    "        clear_output(wait=True)\n",
    "    print(i)\n",
    "    while True:\n",
    "        process = Popen([\"sbatch\", \"submit_first_finetuning.sh\", all_id, OUTPUT_DIR], stdout=PIPE)\n",
    "        (output, err) = process.communicate()\n",
    "        exit_code = process.wait()\n",
    "        print(time.strftime('%Y-%m-%d %H:%M:%S', time.localtime(time.time())),output,err)\n",
    "        if exit_code == 0:\n",
    "            print(all_id,\"submitted!\")\n",
    "            tmp_id = str(output)[-11:-3]\n",
    "            print(\"job id:\", tmp_id)\n",
    "            submitted.append(tmp_id)\n",
    "            break\n",
    "        time.sleep(50000)\n",
    "        "
   ]
  },
  {
   "attachments": {},
   "cell_type": "markdown",
   "metadata": {},
   "source": [
    "### MoEBERT Seeds finetuning"
   ]
  },
  {
   "cell_type": "code",
   "execution_count": 94,
   "metadata": {},
   "outputs": [
    {
     "name": "stdout",
     "output_type": "stream",
     "text": [
      "30\n"
     ]
    }
   ],
   "source": [
    "torun = datasets.copy()"
   ]
  },
  {
   "cell_type": "code",
   "execution_count": null,
   "metadata": {},
   "outputs": [],
   "source": [
    "submitted = []"
   ]
  },
  {
   "cell_type": "code",
   "execution_count": null,
   "metadata": {},
   "outputs": [],
   "source": [
    "\n",
    "OUTPUT_DIR = \"/home/gridsan/ptheron/MoEBERT-fork/results\""
   ]
  },
  {
   "cell_type": "code",
   "execution_count": 95,
   "metadata": {
    "scrolled": true
   },
   "outputs": [
    {
     "name": "stdout",
     "output_type": "stream",
     "text": [
      "0\n",
      "2023-01-06 11:27:09 b'Submitted batch job 21011683\\n' None\n",
      "../mixture-of-digits_bashes/v2/instance_specific_soft_k_trees_ensemble_learn_permuted_gate_seed61.sh submitted!\n",
      "job id: 21011683\n",
      "1\n",
      "2023-01-06 11:27:09 b'Submitted batch job 21011684\\n' None\n",
      "../mixture-of-digits_bashes/v2/instance_specific_soft_k_trees_ensemble_learn_permuted_gate_seed62.sh submitted!\n",
      "job id: 21011684\n",
      "2\n",
      "2023-01-06 11:27:09 b'Submitted batch job 21011685\\n' None\n",
      "../mixture-of-digits_bashes/v2/instance_specific_soft_k_trees_ensemble_learn_permuted_gate_seed63.sh submitted!\n",
      "job id: 21011685\n",
      "3\n",
      "2023-01-06 11:27:09 b'Submitted batch job 21011686\\n' None\n",
      "../mixture-of-digits_bashes/v2/instance_specific_soft_k_trees_ensemble_learn_permuted_gate_seed64.sh submitted!\n",
      "job id: 21011686\n",
      "4\n",
      "2023-01-06 11:27:09 b'Submitted batch job 21011687\\n' None\n",
      "../mixture-of-digits_bashes/v2/instance_specific_soft_k_trees_ensemble_learn_permuted_gate_seed65.sh submitted!\n",
      "job id: 21011687\n",
      "5\n",
      "2023-01-06 11:27:09 b'Submitted batch job 21011688\\n' None\n",
      "../mixture-of-digits_bashes/v2/instance_specific_soft_k_trees_ensemble_learn_permuted_gate_seed66.sh submitted!\n",
      "job id: 21011688\n",
      "6\n",
      "2023-01-06 11:27:09 b'Submitted batch job 21011689\\n' None\n",
      "../mixture-of-digits_bashes/v2/instance_specific_soft_k_trees_ensemble_learn_permuted_gate_seed67.sh submitted!\n",
      "job id: 21011689\n",
      "7\n",
      "2023-01-06 11:27:09 b'Submitted batch job 21011690\\n' None\n",
      "../mixture-of-digits_bashes/v2/instance_specific_soft_k_trees_ensemble_learn_permuted_gate_seed68.sh submitted!\n",
      "job id: 21011690\n",
      "8\n",
      "2023-01-06 11:27:09 b'Submitted batch job 21011691\\n' None\n",
      "../mixture-of-digits_bashes/v2/instance_specific_soft_k_trees_ensemble_learn_permuted_gate_seed69.sh submitted!\n",
      "job id: 21011691\n",
      "9\n",
      "2023-01-06 11:27:09 b'Submitted batch job 21011692\\n' None\n",
      "../mixture-of-digits_bashes/v2/instance_specific_soft_k_trees_ensemble_learn_permuted_gate_seed70.sh submitted!\n",
      "job id: 21011692\n",
      "10\n",
      "2023-01-06 11:27:09 b'Submitted batch job 21011693\\n' None\n",
      "../mixture-of-digits_bashes/v2/instance_specific_soft_k_trees_ensemble_learn_permuted_gate_seed71.sh submitted!\n",
      "job id: 21011693\n",
      "11\n",
      "2023-01-06 11:27:09 b'Submitted batch job 21011694\\n' None\n",
      "../mixture-of-digits_bashes/v2/instance_specific_soft_k_trees_ensemble_learn_permuted_gate_seed72.sh submitted!\n",
      "job id: 21011694\n",
      "12\n",
      "2023-01-06 11:27:09 b'Submitted batch job 21011695\\n' None\n",
      "../mixture-of-digits_bashes/v2/instance_specific_soft_k_trees_ensemble_learn_permuted_gate_seed73.sh submitted!\n",
      "job id: 21011695\n",
      "13\n",
      "2023-01-06 11:27:09 b'Submitted batch job 21011696\\n' None\n",
      "../mixture-of-digits_bashes/v2/instance_specific_soft_k_trees_ensemble_learn_permuted_gate_seed74.sh submitted!\n",
      "job id: 21011696\n",
      "14\n",
      "2023-01-06 11:27:09 b'Submitted batch job 21011697\\n' None\n",
      "../mixture-of-digits_bashes/v2/instance_specific_soft_k_trees_ensemble_learn_permuted_gate_seed75.sh submitted!\n",
      "job id: 21011697\n",
      "15\n",
      "2023-01-06 11:27:09 b'Submitted batch job 21011698\\n' None\n",
      "../mixture-of-digits_bashes/v2/instance_specific_soft_k_trees_ensemble_learn_permuted_gate_seed76.sh submitted!\n",
      "job id: 21011698\n",
      "16\n",
      "2023-01-06 11:27:09 b'Submitted batch job 21011699\\n' None\n",
      "../mixture-of-digits_bashes/v2/instance_specific_soft_k_trees_ensemble_learn_permuted_gate_seed77.sh submitted!\n",
      "job id: 21011699\n",
      "17\n",
      "2023-01-06 11:27:09 b'Submitted batch job 21011700\\n' None\n",
      "../mixture-of-digits_bashes/v2/instance_specific_soft_k_trees_ensemble_learn_permuted_gate_seed78.sh submitted!\n",
      "job id: 21011700\n",
      "18\n",
      "2023-01-06 11:27:09 b'Submitted batch job 21011701\\n' None\n",
      "../mixture-of-digits_bashes/v2/instance_specific_soft_k_trees_ensemble_learn_permuted_gate_seed79.sh submitted!\n",
      "job id: 21011701\n",
      "19\n",
      "2023-01-06 11:27:09 b'Submitted batch job 21011702\\n' None\n",
      "../mixture-of-digits_bashes/v2/instance_specific_soft_k_trees_ensemble_learn_permuted_gate_seed80.sh submitted!\n",
      "job id: 21011702\n",
      "20\n",
      "2023-01-06 11:27:09 b'Submitted batch job 21011703\\n' None\n",
      "../mixture-of-digits_bashes/v2/instance_specific_soft_k_trees_ensemble_learn_permuted_gate_seed81.sh submitted!\n",
      "job id: 21011703\n",
      "21\n",
      "2023-01-06 11:27:09 b'Submitted batch job 21011704\\n' None\n",
      "../mixture-of-digits_bashes/v2/instance_specific_soft_k_trees_ensemble_learn_permuted_gate_seed82.sh submitted!\n",
      "job id: 21011704\n",
      "22\n",
      "2023-01-06 11:27:09 b'Submitted batch job 21011705\\n' None\n",
      "../mixture-of-digits_bashes/v2/instance_specific_soft_k_trees_ensemble_learn_permuted_gate_seed83.sh submitted!\n",
      "job id: 21011705\n",
      "23\n",
      "2023-01-06 11:27:09 b'Submitted batch job 21011706\\n' None\n",
      "../mixture-of-digits_bashes/v2/instance_specific_soft_k_trees_ensemble_learn_permuted_gate_seed84.sh submitted!\n",
      "job id: 21011706\n",
      "24\n",
      "2023-01-06 11:27:09 b'Submitted batch job 21011707\\n' None\n",
      "../mixture-of-digits_bashes/v2/instance_specific_soft_k_trees_ensemble_learn_permuted_gate_seed85.sh submitted!\n",
      "job id: 21011707\n",
      "25\n",
      "2023-01-06 11:27:09 b'Submitted batch job 21011708\\n' None\n",
      "../mixture-of-digits_bashes/v2/instance_specific_soft_k_trees_ensemble_learn_permuted_gate_seed86.sh submitted!\n",
      "job id: 21011708\n",
      "26\n",
      "2023-01-06 11:27:09 b'Submitted batch job 21011709\\n' None\n",
      "../mixture-of-digits_bashes/v2/instance_specific_soft_k_trees_ensemble_learn_permuted_gate_seed87.sh submitted!\n",
      "job id: 21011709\n",
      "27\n",
      "2023-01-06 11:27:09 b'Submitted batch job 21011710\\n' None\n",
      "../mixture-of-digits_bashes/v2/instance_specific_soft_k_trees_ensemble_learn_permuted_gate_seed88.sh submitted!\n",
      "job id: 21011710\n",
      "28\n",
      "2023-01-06 11:27:09 b'Submitted batch job 21011711\\n' None\n",
      "../mixture-of-digits_bashes/v2/instance_specific_soft_k_trees_ensemble_learn_permuted_gate_seed89.sh submitted!\n",
      "job id: 21011711\n",
      "29\n",
      "2023-01-06 11:27:09 b'Submitted batch job 21011712\\n' None\n",
      "../mixture-of-digits_bashes/v2/instance_specific_soft_k_trees_ensemble_learn_permuted_gate_seed90.sh submitted!\n",
      "job id: 21011712\n"
     ]
    }
   ],
   "source": [
    "exit_code = 1\n",
    "for i,all_id in enumerate(torun):\n",
    "    if i % 100 == 0:\n",
    "        clear_output(wait=True)\n",
    "    print(i)\n",
    "    while True:\n",
    "        process = Popen([\"sbatch\", \"submit_seed.sh\", all_id, OUTPUT_DIR], stdout=PIPE)\n",
    "        (output, err) = process.communicate()\n",
    "        exit_code = process.wait()\n",
    "        print(time.strftime('%Y-%m-%d %H:%M:%S', time.localtime(time.time())),output,err)\n",
    "        if exit_code == 0:\n",
    "            print(all_id,\"submitted!\")\n",
    "            tmp_id = str(output)[-11:-3]\n",
    "            print(\"job id:\", tmp_id)\n",
    "            submitted.append(tmp_id)\n",
    "            break\n",
    "        time.sleep(50000)\n",
    "        "
   ]
  },
  {
   "cell_type": "markdown",
   "metadata": {},
   "source": [
    "# Cancel jobs"
   ]
  },
  {
   "cell_type": "code",
   "execution_count": 625,
   "metadata": {
    "scrolled": true
   },
   "outputs": [
    {
     "name": "stdout",
     "output_type": "stream",
     "text": [
      "20989143 deleted!\n",
      "20989144 deleted!\n",
      "20989145 deleted!\n",
      "20989146 deleted!\n",
      "20989147 deleted!\n",
      "20989148 deleted!\n",
      "20989149 deleted!\n",
      "20989150 deleted!\n",
      "20989151 deleted!\n",
      "20989152 deleted!\n",
      "20989153 deleted!\n",
      "20989154 deleted!\n",
      "20989155 deleted!\n",
      "20989156 deleted!\n",
      "20989157 deleted!\n",
      "20989158 deleted!\n",
      "20989159 deleted!\n",
      "20989160 deleted!\n",
      "20989161 deleted!\n",
      "20989162 deleted!\n",
      "20989163 deleted!\n",
      "20989164 deleted!\n",
      "20989165 deleted!\n",
      "20989166 deleted!\n",
      "20989167 deleted!\n",
      "20989168 deleted!\n",
      "20989169 deleted!\n",
      "20989170 deleted!\n",
      "20989171 deleted!\n",
      "20989172 deleted!\n",
      "20989173 deleted!\n",
      "20989174 deleted!\n",
      "20989175 deleted!\n",
      "20989176 deleted!\n",
      "20989177 deleted!\n",
      "20989178 deleted!\n",
      "20989179 deleted!\n",
      "20989180 deleted!\n",
      "20989181 deleted!\n",
      "20989182 deleted!\n",
      "20989183 deleted!\n",
      "20989184 deleted!\n",
      "20989185 deleted!\n",
      "20989186 deleted!\n",
      "20989187 deleted!\n",
      "20989188 deleted!\n",
      "20989189 deleted!\n",
      "20989190 deleted!\n",
      "20989191 deleted!\n",
      "20989192 deleted!\n",
      "20989193 deleted!\n",
      "20989194 deleted!\n",
      "20989195 deleted!\n",
      "20989196 deleted!\n",
      "20989197 deleted!\n",
      "20989198 deleted!\n",
      "20989199 deleted!\n",
      "20989200 deleted!\n",
      "20989201 deleted!\n",
      "20989202 deleted!\n",
      "20989203 deleted!\n",
      "20989204 deleted!\n",
      "20989205 deleted!\n",
      "20989206 deleted!\n",
      "20989207 deleted!\n",
      "20989208 deleted!\n",
      "20989209 deleted!\n",
      "20989210 deleted!\n",
      "20989211 deleted!\n",
      "20989212 deleted!\n",
      "20989213 deleted!\n",
      "20989214 deleted!\n",
      "20989215 deleted!\n",
      "20989216 deleted!\n",
      "20989217 deleted!\n",
      "20989218 deleted!\n",
      "20989219 deleted!\n",
      "20989220 deleted!\n",
      "20989221 deleted!\n",
      "20989222 deleted!\n",
      "20989223 deleted!\n",
      "20989224 deleted!\n",
      "20989225 deleted!\n",
      "20989226 deleted!\n",
      "20989227 deleted!\n",
      "20989228 deleted!\n",
      "20989229 deleted!\n",
      "20989230 deleted!\n",
      "20989231 deleted!\n",
      "20989232 deleted!\n"
     ]
    }
   ],
   "source": [
    "for job in submitted:\n",
    "    process = Popen(['scancel',job], stdout=PIPE)\n",
    "    (output, err) = process.communicate()\n",
    "    exit_code = process.wait()\n",
    "    if exit_code ==0:\n",
    "        print(job, \"deleted!\")"
   ]
  },
  {
   "cell_type": "code",
   "execution_count": null,
   "metadata": {},
   "outputs": [],
   "source": []
  }
 ],
 "metadata": {
  "kernelspec": {
   "display_name": "inf582-nlp",
   "language": "python",
   "name": "python3"
  },
  "language_info": {
   "codemirror_mode": {
    "name": "ipython",
    "version": 3
   },
   "file_extension": ".py",
   "mimetype": "text/x-python",
   "name": "python",
   "nbconvert_exporter": "python",
   "pygments_lexer": "ipython3",
   "version": "3.9.10"
  },
  "latex_envs": {
   "LaTeX_envs_menu_present": true,
   "autoclose": false,
   "autocomplete": true,
   "bibliofile": "biblio.bib",
   "cite_by": "apalike",
   "current_citInitial": 1,
   "eqLabelWithNumbers": true,
   "eqNumInitial": 1,
   "hotkeys": {
    "equation": "Ctrl-E",
    "itemize": "Ctrl-I"
   },
   "labels_anchors": false,
   "latex_user_defs": false,
   "report_style_numbering": false,
   "user_envs_cfg": false
  },
  "toc": {
   "base_numbering": 1,
   "nav_menu": {},
   "number_sections": true,
   "sideBar": true,
   "skip_h1_title": false,
   "title_cell": "Table of Contents",
   "title_sidebar": "Contents",
   "toc_cell": false,
   "toc_position": {},
   "toc_section_display": true,
   "toc_window_display": false
  },
  "varInspector": {
   "cols": {
    "lenName": 16,
    "lenType": 16,
    "lenVar": 40
   },
   "kernels_config": {
    "python": {
     "delete_cmd_postfix": "",
     "delete_cmd_prefix": "del ",
     "library": "var_list.py",
     "varRefreshCmd": "print(var_dic_list())"
    },
    "r": {
     "delete_cmd_postfix": ") ",
     "delete_cmd_prefix": "rm(",
     "library": "var_list.r",
     "varRefreshCmd": "cat(var_dic_list()) "
    }
   },
   "types_to_exclude": [
    "module",
    "function",
    "builtin_function_or_method",
    "instance",
    "_Feature"
   ],
   "window_display": false
  },
  "vscode": {
   "interpreter": {
    "hash": "fd85ce2495f2e04f810fc7a5622c6f28521595cbf410d2fb49a7c1bb922d034d"
   }
  }
 },
 "nbformat": 4,
 "nbformat_minor": 4
}
