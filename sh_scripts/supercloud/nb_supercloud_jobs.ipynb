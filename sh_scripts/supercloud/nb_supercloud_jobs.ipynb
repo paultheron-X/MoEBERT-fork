{
 "cells": [
  {
   "cell_type": "code",
   "execution_count": 1,
   "metadata": {},
   "outputs": [],
   "source": [
    "import numpy as np\n",
    "import pandas as pd\n",
    "import os"
   ]
  },
  {
   "cell_type": "code",
   "execution_count": 2,
   "metadata": {},
   "outputs": [],
   "source": [
    "import shutil"
   ]
  },
  {
   "cell_type": "code",
   "execution_count": 3,
   "metadata": {},
   "outputs": [],
   "source": [
    "from subprocess import Popen, PIPE\n",
    "import time\n",
    "from IPython.display import clear_output"
   ]
  },
  {
   "cell_type": "code",
   "execution_count": 4,
   "metadata": {},
   "outputs": [],
   "source": [
    "PATH = \"/home/gridsan/ptheron/MoEBERT-fork\"\n",
    "PYPATH = \"/home/gridsan/ptheron/.conda/envs/MoEBERT/bin/python\"\n",
    "LOG_PATH = f\"{PATH}/logs\""
   ]
  },
  {
   "cell_type": "code",
   "execution_count": 5,
   "metadata": {},
   "outputs": [
    {
     "data": {
      "text/plain": [
       "'/home/gridsan/ptheron/MoEBERT-fork/logs'"
      ]
     },
     "execution_count": 5,
     "metadata": {},
     "output_type": "execute_result"
    }
   ],
   "source": [
    "LOG_PATH"
   ]
  },
  {
   "attachments": {},
   "cell_type": "markdown",
   "metadata": {},
   "source": [
    "# Download glue datasets and necessary module from huggingface"
   ]
  },
  {
   "cell_type": "code",
   "execution_count": 6,
   "metadata": {},
   "outputs": [
    {
     "name": "stdout",
     "output_type": "stream",
     "text": [
      "python: can't open file 'sh_scripts/fetching/dl_ds.py': [Errno 2] No such file or directory\n"
     ]
    }
   ],
   "source": [
    "!bash ../fetching/sh_dl_ds.sh"
   ]
  },
  {
   "cell_type": "markdown",
   "metadata": {
    "tags": []
   },
   "source": [
    "# Submit Jobs"
   ]
  },
  {
   "cell_type": "code",
   "execution_count": 6,
   "metadata": {},
   "outputs": [],
   "source": []
  },
  {
   "cell_type": "code",
   "execution_count": 7,
   "metadata": {},
   "outputs": [],
   "source": [
    "## make the bash file for the jobs: copy the template and replace $1 by the dataset name\n",
    "os.makedirs(f\"{PATH}/sh_scripts/supercloud/ds_spec_submission\", exist_ok=True)\n",
    "name = \"submit_hash\" # name of the template do not precise the .sh\n",
    "OUTPUT_DIR = '\"/home/gridsan/$(whoami)/MoEBERT-fork/results\"'\n",
    "for ds in datasets:\n",
    "    with open(f\"{PATH}/sh_scripts/supercloud/ds_spec_submission/{name}_{ds}.sh\", \"w\") as f:\n",
    "        with open(f\"{PATH}/sh_scripts/supercloud/{name}.sh\", \"r\") as f2:\n",
    "            for line in f2:\n",
    "                if \"$1\" in line:\n",
    "                    line = line.replace(\"$1\", ds)\n",
    "                if \"OUTPUT_TOFILL\" in line:\n",
    "                    line = line.replace(\"OUTPUT_TOFILL\", OUTPUT_DIR)\n",
    "                f.write(line)            "
   ]
  },
  {
   "cell_type": "code",
   "execution_count": 22,
   "metadata": {},
   "outputs": [],
   "source": [
    "datasets = ['rte','mrpc', 'sst2']"
   ]
  },
  {
   "cell_type": "code",
   "execution_count": 23,
   "metadata": {},
   "outputs": [
    {
     "name": "stdout",
     "output_type": "stream",
     "text": [
      "submit_hash_rte_1.sh\n",
      "submit_hash_mrpc_1.sh\n",
      "submit_hash_sst2_1.sh\n",
      "submit_hash_rte_2.sh\n",
      "submit_hash_mrpc_2.sh\n",
      "submit_hash_sst2_2.sh\n",
      "submit_hash_rte_3.sh\n",
      "submit_hash_mrpc_3.sh\n",
      "submit_hash_sst2_3.sh\n",
      "submit_hash_rte_4.sh\n",
      "submit_hash_mrpc_4.sh\n",
      "submit_hash_sst2_4.sh\n",
      "submit_hash_rte_5.sh\n",
      "submit_hash_mrpc_5.sh\n",
      "submit_hash_sst2_5.sh\n"
     ]
    }
   ],
   "source": [
    "# create hash scripts\n",
    "## make the bash file for the jobs: copy the template and replace $1 by the dataset name\n",
    "os.makedirs(f\"{PATH}/sh_scripts/supercloud/ds_spec_submission/hash\", exist_ok=True)\n",
    "name = \"submit_hash\" # name of the template do not precise the .sh\n",
    "OUTPUT_DIR = '\"/home/gridsan/$(whoami)/MoEBERT-fork/results\"'\n",
    "for num in range(1, 6):\n",
    "    for ds in datasets:\n",
    "        print(f\"{name}_{ds}_{num}.sh\")\n",
    "        with open(f\"{PATH}/sh_scripts/supercloud/ds_spec_submission/hash/{name}_{ds}_{num}.sh\", \"w\") as f:\n",
    "            with open(f\"{PATH}/sh_scripts/supercloud/{name}.sh\", \"r\") as f2:\n",
    "                for line in f2:\n",
    "                    if \"$1\" in line:\n",
    "                        line = line.replace(\"$1\", ds)\n",
    "                    if \"$2\" in line:\n",
    "                        line = line.replace(\"$2\", str(num))\n",
    "                    if \"OUTPUT_TOFILL\" in line:\n",
    "                        line = line.replace(\"OUTPUT_TOFILL\", OUTPUT_DIR)\n",
    "                    f.write(line)            "
   ]
  },
  {
   "cell_type": "code",
   "execution_count": 18,
   "metadata": {},
   "outputs": [
    {
     "name": "stdout",
     "output_type": "stream",
     "text": [
      "1\n",
      "2023-01-23 18:20:13 b'Submitted batch job 21194990\\n' None\n",
      "submitted hash routing! rte 1\n",
      "job id: 21194990\n",
      "1\n",
      "2023-01-23 18:20:13 b'Submitted batch job 21194991\\n' None\n",
      "submitted hash routing! mrpc 1\n",
      "job id: 21194991\n",
      "1\n",
      "2023-01-23 18:20:14 b'Submitted batch job 21194992\\n' None\n",
      "submitted hash routing! sst2 1\n",
      "job id: 21194992\n",
      "2\n",
      "2023-01-23 18:20:14 b'Submitted batch job 21194993\\n' None\n",
      "submitted hash routing! rte 2\n",
      "job id: 21194993\n",
      "2\n",
      "2023-01-23 18:20:14 b'Submitted batch job 21194994\\n' None\n",
      "submitted hash routing! mrpc 2\n",
      "job id: 21194994\n",
      "2\n",
      "2023-01-23 18:20:15 b'Submitted batch job 21194995\\n' None\n",
      "submitted hash routing! sst2 2\n",
      "job id: 21194995\n",
      "3\n",
      "2023-01-23 18:20:15 b'Submitted batch job 21194996\\n' None\n",
      "submitted hash routing! rte 3\n",
      "job id: 21194996\n",
      "3\n",
      "2023-01-23 18:20:15 b'Submitted batch job 21194997\\n' None\n",
      "submitted hash routing! mrpc 3\n",
      "job id: 21194997\n",
      "3\n",
      "2023-01-23 18:20:16 b'Submitted batch job 21194998\\n' None\n",
      "submitted hash routing! sst2 3\n",
      "job id: 21194998\n",
      "4\n",
      "2023-01-23 18:20:16 b'Submitted batch job 21194999\\n' None\n",
      "submitted hash routing! rte 4\n",
      "job id: 21194999\n",
      "4\n",
      "2023-01-23 18:20:16 b'Submitted batch job 21195000\\n' None\n",
      "submitted hash routing! mrpc 4\n",
      "job id: 21195000\n",
      "4\n",
      "2023-01-23 18:20:16 b'Submitted batch job 21195002\\n' None\n",
      "submitted hash routing! sst2 4\n",
      "job id: 21195002\n",
      "5\n",
      "2023-01-23 18:20:17 b'Submitted batch job 21195005\\n' None\n",
      "submitted hash routing! rte 5\n",
      "job id: 21195005\n",
      "5\n",
      "2023-01-23 18:20:17 b'Submitted batch job 21195006\\n' None\n",
      "submitted hash routing! mrpc 5\n",
      "job id: 21195006\n",
      "5\n",
      "2023-01-23 18:20:17 b'Submitted batch job 21195007\\n' None\n",
      "submitted hash routing! sst2 5\n",
      "job id: 21195007\n"
     ]
    }
   ],
   "source": [
    "exit_code = 1\n",
    "name = \"submit_hash\" # name of the template do not precise the .sh\n",
    "ds = ['rte','mrpc','sst2']\n",
    "to_run = [1, 2, 3, 4, 5]\n",
    "\n",
    "#quit()  # to avoid running the script\n",
    "submitted = []\n",
    "for i in to_run:\n",
    "    for ds_name in ds:\n",
    "        if i % 100 == 0:\n",
    "            clear_output(wait=True)\n",
    "        print(i)\n",
    "        while True:\n",
    "            script_path = f\"{PATH}/sh_scripts/supercloud/ds_spec_submission/hash/{name}_{ds_name}_{i}.sh\"\n",
    "            process = Popen([\"LLsub\", script_path], stdout=PIPE)        \n",
    "            (output, err) = process.communicate()\n",
    "            exit_code = process.wait()\n",
    "            print(time.strftime('%Y-%m-%d %H:%M:%S', time.localtime(time.time())),output,err)\n",
    "            if exit_code == 0:\n",
    "                print(f\"submitted hash routing! {ds_name} {i}\")\n",
    "                tmp_id = str(output)[-11:-3]\n",
    "                print(\"job id:\", tmp_id)\n",
    "                submitted.append(tmp_id)\n",
    "                break\n",
    "            time.sleep(50000)\n",
    "        "
   ]
  },
  {
   "cell_type": "code",
   "execution_count": 19,
   "metadata": {},
   "outputs": [
    {
     "name": "stdout",
     "output_type": "stream",
     "text": [
      "['21194990', '21194991', '21194992', '21194993', '21194994', '21194995', '21194996', '21194997', '21194998', '21194999', '21195000', '21195002', '21195005', '21195006', '21195007']\n"
     ]
    }
   ],
   "source": [
    "print(submitted)"
   ]
  },
  {
   "attachments": {},
   "cell_type": "markdown",
   "metadata": {},
   "source": [
    "Cancel jobs"
   ]
  },
  {
   "attachments": {},
   "cell_type": "markdown",
   "metadata": {},
   "source": [
    "hash-routing"
   ]
  },
  {
   "cell_type": "code",
   "execution_count": 24,
   "metadata": {},
   "outputs": [],
   "source": [
    "submitted = ['21195354', '21195355', '21195356', '21195357', '21195358', '21195359', '21195360', '21195361', '21195362', '21195363', '21195364', '21195365', '21195366', '21195367', '21195368']"
   ]
  },
  {
   "cell_type": "code",
   "execution_count": 25,
   "metadata": {},
   "outputs": [
    {
     "name": "stdout",
     "output_type": "stream",
     "text": [
      "21195246 deleted!\n",
      "21195248 deleted!\n",
      "21195249 deleted!\n",
      "21195250 deleted!\n",
      "21195251 deleted!\n",
      "21195252 deleted!\n",
      "21195253 deleted!\n",
      "21195254 deleted!\n",
      "21195255 deleted!\n",
      "21195256 deleted!\n",
      "21195257 deleted!\n",
      "21195258 deleted!\n",
      "21195259 deleted!\n",
      "21195260 deleted!\n",
      "21195261 deleted!\n"
     ]
    }
   ],
   "source": [
    "for job in submitted:\n",
    "    process = Popen(['scancel',job], stdout=PIPE)\n",
    "    (output, err) = process.communicate()\n",
    "    exit_code = process.wait()\n",
    "    if exit_code ==0:\n",
    "        print(job, \"deleted!\")"
   ]
  },
  {
   "attachments": {},
   "cell_type": "markdown",
   "metadata": {},
   "source": [
    "### BERT Task specific finetuning"
   ]
  },
  {
   "cell_type": "code",
   "execution_count": 9,
   "metadata": {},
   "outputs": [],
   "source": [
    "torun = ['rte', 'cola', 'mrpc', 'sst2']\n",
    "submitted = []"
   ]
  },
  {
   "cell_type": "code",
   "execution_count": 1,
   "metadata": {},
   "outputs": [
    {
     "ename": "NameError",
     "evalue": "name 'torun' is not defined",
     "output_type": "error",
     "traceback": [
      "\u001b[0;31m---------------------------------------------------------------------------\u001b[0m",
      "\u001b[0;31mNameError\u001b[0m                                 Traceback (most recent call last)",
      "\u001b[0;32m<ipython-input-1-19492516fa7c>\u001b[0m in \u001b[0;36m<module>\u001b[0;34m\u001b[0m\n\u001b[1;32m      1\u001b[0m \u001b[0mexit_code\u001b[0m \u001b[0;34m=\u001b[0m \u001b[0;36m1\u001b[0m\u001b[0;34m\u001b[0m\u001b[0;34m\u001b[0m\u001b[0m\n\u001b[1;32m      2\u001b[0m \u001b[0mname\u001b[0m \u001b[0;34m=\u001b[0m \u001b[0;34m\"submit_seed_perm\"\u001b[0m \u001b[0;31m# name of the template do not precise the .sh\u001b[0m\u001b[0;34m\u001b[0m\u001b[0;34m\u001b[0m\u001b[0m\n\u001b[0;32m----> 3\u001b[0;31m \u001b[0;32mfor\u001b[0m \u001b[0mi\u001b[0m\u001b[0;34m,\u001b[0m\u001b[0mds_name\u001b[0m \u001b[0;32min\u001b[0m \u001b[0menumerate\u001b[0m\u001b[0;34m(\u001b[0m\u001b[0mtorun\u001b[0m\u001b[0;34m)\u001b[0m\u001b[0;34m:\u001b[0m\u001b[0;34m\u001b[0m\u001b[0;34m\u001b[0m\u001b[0m\n\u001b[0m\u001b[1;32m      4\u001b[0m     \u001b[0;32mif\u001b[0m \u001b[0mi\u001b[0m \u001b[0;34m%\u001b[0m \u001b[0;36m100\u001b[0m \u001b[0;34m==\u001b[0m \u001b[0;36m0\u001b[0m\u001b[0;34m:\u001b[0m\u001b[0;34m\u001b[0m\u001b[0;34m\u001b[0m\u001b[0m\n\u001b[1;32m      5\u001b[0m         \u001b[0mclear_output\u001b[0m\u001b[0;34m(\u001b[0m\u001b[0mwait\u001b[0m\u001b[0;34m=\u001b[0m\u001b[0;32mTrue\u001b[0m\u001b[0;34m)\u001b[0m\u001b[0;34m\u001b[0m\u001b[0;34m\u001b[0m\u001b[0m\n",
      "\u001b[0;31mNameError\u001b[0m: name 'torun' is not defined"
     ]
    }
   ],
   "source": [
    "exit_code = 1\n",
    "name = \"submit_perm\" # name of the template do not precise the .sh\n",
    "for i,ds_name in enumerate(torun):\n",
    "    if i % 100 == 0:\n",
    "        clear_output(wait=True)\n",
    "    print(i)\n",
    "    while True:\n",
    "        script_path = f\"{PATH}/sh_scripts/supercloud/ds_spec_submission/{name}_{ds_name}.sh\"\n",
    "        process = Popen([\"sbatch\", script_path], stdout=PIPE)\n",
    "        (output, err) = process.communicate()\n",
    "        exit_code = process.wait()\n",
    "        print(time.strftime('%Y-%m-%d %H:%M:%S', time.localtime(time.time())),output,err)\n",
    "        if exit_code == 0:\n",
    "            print(ds_name,\"submitted!\")\n",
    "            tmp_id = str(output)[-11:-3]\n",
    "            print(\"job id:\", tmp_id)\n",
    "            submitted.append(tmp_id)\n",
    "            break\n",
    "        time.sleep(50000)\n",
    "        "
   ]
  },
  {
   "cell_type": "code",
   "execution_count": null,
   "metadata": {},
   "outputs": [],
   "source": []
  },
  {
   "attachments": {},
   "cell_type": "markdown",
   "metadata": {},
   "source": [
    "### MoEBERT Seeds finetuning"
   ]
  },
  {
   "cell_type": "code",
   "execution_count": 94,
   "metadata": {},
   "outputs": [
    {
     "name": "stdout",
     "output_type": "stream",
     "text": [
      "30\n"
     ]
    }
   ],
   "source": [
    "torun = datasets.copy()"
   ]
  },
  {
   "cell_type": "code",
   "execution_count": null,
   "metadata": {},
   "outputs": [],
   "source": [
    "submitted = []"
   ]
  },
  {
   "cell_type": "code",
   "execution_count": 95,
   "metadata": {
    "scrolled": true
   },
   "outputs": [
    {
     "name": "stdout",
     "output_type": "stream",
     "text": [
      "0\n",
      "2023-01-06 11:27:09 b'Submitted batch job 21011683\\n' None\n",
      "../mixture-of-digits_bashes/v2/instance_specific_soft_k_trees_ensemble_learn_permuted_gate_seed61.sh submitted!\n",
      "job id: 21011683\n",
      "1\n",
      "2023-01-06 11:27:09 b'Submitted batch job 21011684\\n' None\n",
      "../mixture-of-digits_bashes/v2/instance_specific_soft_k_trees_ensemble_learn_permuted_gate_seed62.sh submitted!\n",
      "job id: 21011684\n",
      "2\n",
      "2023-01-06 11:27:09 b'Submitted batch job 21011685\\n' None\n",
      "../mixture-of-digits_bashes/v2/instance_specific_soft_k_trees_ensemble_learn_permuted_gate_seed63.sh submitted!\n",
      "job id: 21011685\n",
      "3\n",
      "2023-01-06 11:27:09 b'Submitted batch job 21011686\\n' None\n",
      "../mixture-of-digits_bashes/v2/instance_specific_soft_k_trees_ensemble_learn_permuted_gate_seed64.sh submitted!\n",
      "job id: 21011686\n",
      "4\n",
      "2023-01-06 11:27:09 b'Submitted batch job 21011687\\n' None\n",
      "../mixture-of-digits_bashes/v2/instance_specific_soft_k_trees_ensemble_learn_permuted_gate_seed65.sh submitted!\n",
      "job id: 21011687\n",
      "5\n",
      "2023-01-06 11:27:09 b'Submitted batch job 21011688\\n' None\n",
      "../mixture-of-digits_bashes/v2/instance_specific_soft_k_trees_ensemble_learn_permuted_gate_seed66.sh submitted!\n",
      "job id: 21011688\n",
      "6\n",
      "2023-01-06 11:27:09 b'Submitted batch job 21011689\\n' None\n",
      "../mixture-of-digits_bashes/v2/instance_specific_soft_k_trees_ensemble_learn_permuted_gate_seed67.sh submitted!\n",
      "job id: 21011689\n",
      "7\n",
      "2023-01-06 11:27:09 b'Submitted batch job 21011690\\n' None\n",
      "../mixture-of-digits_bashes/v2/instance_specific_soft_k_trees_ensemble_learn_permuted_gate_seed68.sh submitted!\n",
      "job id: 21011690\n",
      "8\n",
      "2023-01-06 11:27:09 b'Submitted batch job 21011691\\n' None\n",
      "../mixture-of-digits_bashes/v2/instance_specific_soft_k_trees_ensemble_learn_permuted_gate_seed69.sh submitted!\n",
      "job id: 21011691\n",
      "9\n",
      "2023-01-06 11:27:09 b'Submitted batch job 21011692\\n' None\n",
      "../mixture-of-digits_bashes/v2/instance_specific_soft_k_trees_ensemble_learn_permuted_gate_seed70.sh submitted!\n",
      "job id: 21011692\n",
      "10\n",
      "2023-01-06 11:27:09 b'Submitted batch job 21011693\\n' None\n",
      "../mixture-of-digits_bashes/v2/instance_specific_soft_k_trees_ensemble_learn_permuted_gate_seed71.sh submitted!\n",
      "job id: 21011693\n",
      "11\n",
      "2023-01-06 11:27:09 b'Submitted batch job 21011694\\n' None\n",
      "../mixture-of-digits_bashes/v2/instance_specific_soft_k_trees_ensemble_learn_permuted_gate_seed72.sh submitted!\n",
      "job id: 21011694\n",
      "12\n",
      "2023-01-06 11:27:09 b'Submitted batch job 21011695\\n' None\n",
      "../mixture-of-digits_bashes/v2/instance_specific_soft_k_trees_ensemble_learn_permuted_gate_seed73.sh submitted!\n",
      "job id: 21011695\n",
      "13\n",
      "2023-01-06 11:27:09 b'Submitted batch job 21011696\\n' None\n",
      "../mixture-of-digits_bashes/v2/instance_specific_soft_k_trees_ensemble_learn_permuted_gate_seed74.sh submitted!\n",
      "job id: 21011696\n",
      "14\n",
      "2023-01-06 11:27:09 b'Submitted batch job 21011697\\n' None\n",
      "../mixture-of-digits_bashes/v2/instance_specific_soft_k_trees_ensemble_learn_permuted_gate_seed75.sh submitted!\n",
      "job id: 21011697\n",
      "15\n",
      "2023-01-06 11:27:09 b'Submitted batch job 21011698\\n' None\n",
      "../mixture-of-digits_bashes/v2/instance_specific_soft_k_trees_ensemble_learn_permuted_gate_seed76.sh submitted!\n",
      "job id: 21011698\n",
      "16\n",
      "2023-01-06 11:27:09 b'Submitted batch job 21011699\\n' None\n",
      "../mixture-of-digits_bashes/v2/instance_specific_soft_k_trees_ensemble_learn_permuted_gate_seed77.sh submitted!\n",
      "job id: 21011699\n",
      "17\n",
      "2023-01-06 11:27:09 b'Submitted batch job 21011700\\n' None\n",
      "../mixture-of-digits_bashes/v2/instance_specific_soft_k_trees_ensemble_learn_permuted_gate_seed78.sh submitted!\n",
      "job id: 21011700\n",
      "18\n",
      "2023-01-06 11:27:09 b'Submitted batch job 21011701\\n' None\n",
      "../mixture-of-digits_bashes/v2/instance_specific_soft_k_trees_ensemble_learn_permuted_gate_seed79.sh submitted!\n",
      "job id: 21011701\n",
      "19\n",
      "2023-01-06 11:27:09 b'Submitted batch job 21011702\\n' None\n",
      "../mixture-of-digits_bashes/v2/instance_specific_soft_k_trees_ensemble_learn_permuted_gate_seed80.sh submitted!\n",
      "job id: 21011702\n",
      "20\n",
      "2023-01-06 11:27:09 b'Submitted batch job 21011703\\n' None\n",
      "../mixture-of-digits_bashes/v2/instance_specific_soft_k_trees_ensemble_learn_permuted_gate_seed81.sh submitted!\n",
      "job id: 21011703\n",
      "21\n",
      "2023-01-06 11:27:09 b'Submitted batch job 21011704\\n' None\n",
      "../mixture-of-digits_bashes/v2/instance_specific_soft_k_trees_ensemble_learn_permuted_gate_seed82.sh submitted!\n",
      "job id: 21011704\n",
      "22\n",
      "2023-01-06 11:27:09 b'Submitted batch job 21011705\\n' None\n",
      "../mixture-of-digits_bashes/v2/instance_specific_soft_k_trees_ensemble_learn_permuted_gate_seed83.sh submitted!\n",
      "job id: 21011705\n",
      "23\n",
      "2023-01-06 11:27:09 b'Submitted batch job 21011706\\n' None\n",
      "../mixture-of-digits_bashes/v2/instance_specific_soft_k_trees_ensemble_learn_permuted_gate_seed84.sh submitted!\n",
      "job id: 21011706\n",
      "24\n",
      "2023-01-06 11:27:09 b'Submitted batch job 21011707\\n' None\n",
      "../mixture-of-digits_bashes/v2/instance_specific_soft_k_trees_ensemble_learn_permuted_gate_seed85.sh submitted!\n",
      "job id: 21011707\n",
      "25\n",
      "2023-01-06 11:27:09 b'Submitted batch job 21011708\\n' None\n",
      "../mixture-of-digits_bashes/v2/instance_specific_soft_k_trees_ensemble_learn_permuted_gate_seed86.sh submitted!\n",
      "job id: 21011708\n",
      "26\n",
      "2023-01-06 11:27:09 b'Submitted batch job 21011709\\n' None\n",
      "../mixture-of-digits_bashes/v2/instance_specific_soft_k_trees_ensemble_learn_permuted_gate_seed87.sh submitted!\n",
      "job id: 21011709\n",
      "27\n",
      "2023-01-06 11:27:09 b'Submitted batch job 21011710\\n' None\n",
      "../mixture-of-digits_bashes/v2/instance_specific_soft_k_trees_ensemble_learn_permuted_gate_seed88.sh submitted!\n",
      "job id: 21011710\n",
      "28\n",
      "2023-01-06 11:27:09 b'Submitted batch job 21011711\\n' None\n",
      "../mixture-of-digits_bashes/v2/instance_specific_soft_k_trees_ensemble_learn_permuted_gate_seed89.sh submitted!\n",
      "job id: 21011711\n",
      "29\n",
      "2023-01-06 11:27:09 b'Submitted batch job 21011712\\n' None\n",
      "../mixture-of-digits_bashes/v2/instance_specific_soft_k_trees_ensemble_learn_permuted_gate_seed90.sh submitted!\n",
      "job id: 21011712\n"
     ]
    }
   ],
   "source": [
    "exit_code = 1\n",
    "name = \"submit_seed\" # name of the template do not precise the .sh\n",
    "for i,all_id in enumerate(torun):\n",
    "    if i % 100 == 0:\n",
    "        clear_output(wait=True)\n",
    "    print(i)\n",
    "    while True:\n",
    "        script_path = f\"{PATH}/sh_scripts/supercloud/ds_spec_submission/{name}_{ds_name}.sh\"\n",
    "        process = Popen([\"sbatch\", script_path], stdout=PIPE)        \n",
    "        (output, err) = process.communicate()\n",
    "        exit_code = process.wait()\n",
    "        print(time.strftime('%Y-%m-%d %H:%M:%S', time.localtime(time.time())),output,err)\n",
    "        if exit_code == 0:\n",
    "            print(all_id,\"submitted!\")\n",
    "            tmp_id = str(output)[-11:-3]\n",
    "            print(\"job id:\", tmp_id)\n",
    "            submitted.append(tmp_id)\n",
    "            break\n",
    "        time.sleep(50000)\n",
    "        "
   ]
  },
  {
   "cell_type": "markdown",
   "metadata": {},
   "source": [
    "# Cancel jobs"
   ]
  },
  {
   "cell_type": "code",
   "execution_count": 625,
   "metadata": {
    "scrolled": true
   },
   "outputs": [
    {
     "name": "stdout",
     "output_type": "stream",
     "text": [
      "20989143 deleted!\n",
      "20989144 deleted!\n",
      "20989145 deleted!\n",
      "20989146 deleted!\n",
      "20989147 deleted!\n",
      "20989148 deleted!\n",
      "20989149 deleted!\n",
      "20989150 deleted!\n",
      "20989151 deleted!\n",
      "20989152 deleted!\n",
      "20989153 deleted!\n",
      "20989154 deleted!\n",
      "20989155 deleted!\n",
      "20989156 deleted!\n",
      "20989157 deleted!\n",
      "20989158 deleted!\n",
      "20989159 deleted!\n",
      "20989160 deleted!\n",
      "20989161 deleted!\n",
      "20989162 deleted!\n",
      "20989163 deleted!\n",
      "20989164 deleted!\n",
      "20989165 deleted!\n",
      "20989166 deleted!\n",
      "20989167 deleted!\n",
      "20989168 deleted!\n",
      "20989169 deleted!\n",
      "20989170 deleted!\n",
      "20989171 deleted!\n",
      "20989172 deleted!\n",
      "20989173 deleted!\n",
      "20989174 deleted!\n",
      "20989175 deleted!\n",
      "20989176 deleted!\n",
      "20989177 deleted!\n",
      "20989178 deleted!\n",
      "20989179 deleted!\n",
      "20989180 deleted!\n",
      "20989181 deleted!\n",
      "20989182 deleted!\n",
      "20989183 deleted!\n",
      "20989184 deleted!\n",
      "20989185 deleted!\n",
      "20989186 deleted!\n",
      "20989187 deleted!\n",
      "20989188 deleted!\n",
      "20989189 deleted!\n",
      "20989190 deleted!\n",
      "20989191 deleted!\n",
      "20989192 deleted!\n",
      "20989193 deleted!\n",
      "20989194 deleted!\n",
      "20989195 deleted!\n",
      "20989196 deleted!\n",
      "20989197 deleted!\n",
      "20989198 deleted!\n",
      "20989199 deleted!\n",
      "20989200 deleted!\n",
      "20989201 deleted!\n",
      "20989202 deleted!\n",
      "20989203 deleted!\n",
      "20989204 deleted!\n",
      "20989205 deleted!\n",
      "20989206 deleted!\n",
      "20989207 deleted!\n",
      "20989208 deleted!\n",
      "20989209 deleted!\n",
      "20989210 deleted!\n",
      "20989211 deleted!\n",
      "20989212 deleted!\n",
      "20989213 deleted!\n",
      "20989214 deleted!\n",
      "20989215 deleted!\n",
      "20989216 deleted!\n",
      "20989217 deleted!\n",
      "20989218 deleted!\n",
      "20989219 deleted!\n",
      "20989220 deleted!\n",
      "20989221 deleted!\n",
      "20989222 deleted!\n",
      "20989223 deleted!\n",
      "20989224 deleted!\n",
      "20989225 deleted!\n",
      "20989226 deleted!\n",
      "20989227 deleted!\n",
      "20989228 deleted!\n",
      "20989229 deleted!\n",
      "20989230 deleted!\n",
      "20989231 deleted!\n",
      "20989232 deleted!\n"
     ]
    }
   ],
   "source": [
    "for job in submitted:\n",
    "    process = Popen(['scancel',job], stdout=PIPE)\n",
    "    (output, err) = process.communicate()\n",
    "    exit_code = process.wait()\n",
    "    if exit_code ==0:\n",
    "        print(job, \"deleted!\")"
   ]
  },
  {
   "cell_type": "code",
   "execution_count": null,
   "metadata": {},
   "outputs": [],
   "source": []
  }
 ],
 "metadata": {
  "kernelspec": {
   "display_name": "base",
   "language": "python",
   "name": "python3"
  },
  "language_info": {
   "codemirror_mode": {
    "name": "ipython",
    "version": 3
   },
   "file_extension": ".py",
   "mimetype": "text/x-python",
   "name": "python",
   "nbconvert_exporter": "python",
   "pygments_lexer": "ipython3",
   "version": "3.8.11"
  },
  "latex_envs": {
   "LaTeX_envs_menu_present": true,
   "autoclose": false,
   "autocomplete": true,
   "bibliofile": "biblio.bib",
   "cite_by": "apalike",
   "current_citInitial": 1,
   "eqLabelWithNumbers": true,
   "eqNumInitial": 1,
   "hotkeys": {
    "equation": "Ctrl-E",
    "itemize": "Ctrl-I"
   },
   "labels_anchors": false,
   "latex_user_defs": false,
   "report_style_numbering": false,
   "user_envs_cfg": false
  },
  "toc": {
   "base_numbering": 1,
   "nav_menu": {},
   "number_sections": true,
   "sideBar": true,
   "skip_h1_title": false,
   "title_cell": "Table of Contents",
   "title_sidebar": "Contents",
   "toc_cell": false,
   "toc_position": {},
   "toc_section_display": true,
   "toc_window_display": false
  },
  "varInspector": {
   "cols": {
    "lenName": 16,
    "lenType": 16,
    "lenVar": 40
   },
   "kernels_config": {
    "python": {
     "delete_cmd_postfix": "",
     "delete_cmd_prefix": "del ",
     "library": "var_list.py",
     "varRefreshCmd": "print(var_dic_list())"
    },
    "r": {
     "delete_cmd_postfix": ") ",
     "delete_cmd_prefix": "rm(",
     "library": "var_list.r",
     "varRefreshCmd": "cat(var_dic_list()) "
    }
   },
   "types_to_exclude": [
    "module",
    "function",
    "builtin_function_or_method",
    "instance",
    "_Feature"
   ],
   "window_display": false
  },
  "vscode": {
   "interpreter": {
    "hash": "41113c3bb48666bfa0dbb83bab174d74f815372847a06a19e688e5e39ea2e467"
   }
  }
 },
 "nbformat": 4,
 "nbformat_minor": 4
}
